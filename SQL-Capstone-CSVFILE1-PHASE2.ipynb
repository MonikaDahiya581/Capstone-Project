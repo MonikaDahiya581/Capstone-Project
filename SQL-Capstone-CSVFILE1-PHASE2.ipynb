{
 "cells": [
  {
   "cell_type": "markdown",
   "id": "5ec0dfb3",
   "metadata": {},
   "source": [
    "# SQLite Capstone-Project Phase 1"
   ]
  },
  {
   "cell_type": "code",
   "execution_count": 1,
   "id": "a05a3bfb",
   "metadata": {},
   "outputs": [],
   "source": [
    "import sqlite3"
   ]
  },
  {
   "cell_type": "markdown",
   "id": "97d6a7b5",
   "metadata": {},
   "source": [
    "Create Database"
   ]
  },
  {
   "cell_type": "code",
   "execution_count": 4,
   "id": "b7be3177",
   "metadata": {},
   "outputs": [],
   "source": [
    "db = sqlite3.connect('imdbmoviesdata_database.db')"
   ]
  },
  {
   "cell_type": "markdown",
   "id": "61750925",
   "metadata": {},
   "source": [
    "create cursor"
   ]
  },
  {
   "cell_type": "code",
   "execution_count": 5,
   "id": "33f00bc3",
   "metadata": {},
   "outputs": [],
   "source": [
    "cur = db.cursor()"
   ]
  },
  {
   "cell_type": "code",
   "execution_count": 6,
   "id": "a5e5b2bf",
   "metadata": {},
   "outputs": [
    {
     "data": {
      "text/plain": [
       "<sqlite3.Cursor at 0x2a86453b260>"
      ]
     },
     "execution_count": 6,
     "metadata": {},
     "output_type": "execute_result"
    }
   ],
   "source": [
    "cur.execute('create table imdbmoviesdata(sno int primary key,movie_name text,director_1 text,director_2 text,duration int,year int,ratings int,metascore int)')"
   ]
  },
  {
   "cell_type": "markdown",
   "id": "75c18eb1",
   "metadata": {},
   "source": [
    "# Inserting Records from csv File"
   ]
  },
  {
   "cell_type": "code",
   "execution_count": 7,
   "id": "dc45e3fe",
   "metadata": {},
   "outputs": [
    {
     "name": "stdout",
     "output_type": "stream",
     "text": [
      "51 Records inserted in table\n"
     ]
    }
   ],
   "source": [
    "with open('imdbmoviesdata.csv','r') as file:\n",
    "    total_records = 0\n",
    "    for row in file:\n",
    "        cur.execute(\"insert into imdbmoviesdata values(?,?,?,?,?,?,?,?)\",row.split(\",\"))\n",
    "        db.commit()\n",
    "        total_records+=1\n",
    "print(total_records,'Records inserted in table')"
   ]
  },
  {
   "cell_type": "code",
   "execution_count": 8,
   "id": "c55f0733",
   "metadata": {},
   "outputs": [
    {
     "name": "stdout",
     "output_type": "stream",
     "text": [
      "('SNo.', 'Name Of Movie', 'Yera_of_release', 'Director_1', 'Director_2', 'Duration', 'Ratings', 'Metascore\\n')\n",
      "(1, 'The Dark Knight', '2008', 'Christopher Nolan', 'NAN', '152 min', 9, 84)\n",
      "(2, 'The Lord of the Rings: The Return of the King', '2003', 'Peter Jackson', 'NAN', '201 min', 9, 94)\n",
      "(3, 'Inception', '2010', 'Christopher Nolan', 'NAN', '148 min', 8.8, 74)\n",
      "(4, 'The Lord of the Rings: The Fellowship of the Ring', '2001', 'Peter Jackson', 'NAN', '178 min', 8.8, 92)\n",
      "(5, 'The Lord of the Rings: The Two Towers', '2002', 'Peter Jackson', 'NAN', '179 min', 8.8, 87)\n",
      "(6, 'The Matrix', '1999', 'Lana Wachowski', ' Laurence Fishburne', '136 min', 8.7, 73)\n",
      "(7, 'Star Wars: Episode V - The Empire Strikes Back', '1980', 'Irvin Kershner', 'NAN', '124 min', 8.7, 82)\n",
      "(8, 'Soorarai Pottru', '2020', 'Sudha Kongara', 'NAN', '153 min', 8.7, '^^^^^^^\\n')\n",
      "(9, 'Star Wars', '1977', 'George Lucas', 'NAN', '121 min', 8.6, 90)\n",
      "(10, 'Terminator 2: Judgment Day', '1991', 'James Cameron', 'NAN', '137 min', 8.6, 75)\n",
      "(11, 'Shichinin no samurai', '1954', 'Akira Kurosawa', 'NAN', '207 min', 8.6, 98)\n",
      "(12, 'Seppuku', '1962', 'Masaki Kobayashi', 'NAN', '133 min', 8.6, 85)\n",
      "(13, 'Sita Ramam', '2022', 'Hanu Raghavapudi', 'NAN', '163 min', 8.6, '^^^^^^^\\n')\n",
      "(14, 'LÅ½on', '1994', 'Luc Besson', 'NAN', '110 min', 8.5, 64)\n",
      "(15, 'Gladiator', '2000', 'Ridley Scott', 'NAN', '155 min', 8.5, 67)\n",
      "(16, 'Avengers: Endgame', '2019', 'Anthony Russo', 'Joe Russo', '181 min', 8.4, 78)\n",
      "(17, 'Spider-Man: Into the Spider-Verse', '2018', 'Bob Persichetti', 'Peter Ramsey', '117 min', 8.4, 87)\n",
      "(18, 'Raiders of the Lost Ark', '1981', 'Steven Spielberg', 'NAN', '115 min', 8.4, 85)\n",
      "(19, 'Avengers: Infinity War', '2018', 'Anthony Russo', 'Joe Russo', '149 min', 8.4, 68)\n",
      "(20, 'Oldeuboi', '2003', 'Park Chan-wook', 'NAN', '101 min', 8.4, 77)\n",
      "(21, 'The Dark Knight Rises', '2012', 'Christopher Nolan', 'NAN', '164 min', 8.4, 78)\n",
      "(22, 'Aliens', '1986', 'James Cameron', 'NAN', '137 min', 8.4, 84)\n",
      "(23, 'Kaithi', '2019', 'Lokesh Kanagaraj', 'NAN', '145 min', 8.4, '^^^^^^^\\n')\n",
      "(24, 'Asuran', '2019', 'Vetrimaaran', 'NAN', '141 min', 8.4, '^^^^^^^\\n')\n",
      "(25, 'Heat', '1995', 'Michael Mann', 'NAN', '170 min', 8.3, 76)\n",
      "(26, 'Top Gun: Maverick', '2022', 'Joseph Kosinski', 'NAN', '130 min', 8.3, 78)\n",
      "(27, 'Star Wars: Episode VI - Return of the Jedi', '1983', 'Richard Marquand', 'NAN', '131 min', 8.3, 58)\n",
      "(28, 'Mononoke-hime', '1997', 'Hayao Miyazaki', 'NAN', '134 min', 8.3, 76)\n",
      "(29, 'North by Northwest', '1959', 'Alfred Hitchcock', 'NAN', '136 min', 8.3, 98)\n",
      "(30, 'Kantara', '2022', 'Rishab Shetty', 'NAN', '148 min', 8.3, '^^^^^^^\\n')\n",
      "(31, 'Dangal', '2016', 'Nitesh Tiwari', 'NAN', '161 min', 8.3, '^^^^^^^\\n')\n",
      "(32, 'K.G.F: Chapter 2', '2022', 'Prashanth Neel', 'NAN', '168 min', 8.3, '^^^^^^^\\n')\n",
      "(33, 'Vikram', '2022', 'Lokesh Kanagaraj', 'NAN', '175 min', 8.3, '^^^^^^^\\n')\n",
      "(34, 'Ratsasan', '2018', 'Ram Kumar', 'NAN', '170 min', 8.3, '^^^^^^^\\n')\n",
      "(35, 'Shershaah', '2021', 'Vishnuvardhan', 'NAN', '135 min', 8.3, '^^^^^^^\\n')\n",
      "(36, 'Guardians of the Galaxy Vol. 3', '2023', 'James Gunn', 'NAN', '150 min', 8.2, 64)\n",
      "(37, 'Spider-Man: No Way Home', '2021', 'Jon Watts', 'NAN', '148 min', 8.2, 71)\n",
      "(38, 'Jurassic Park', '1993', 'Steven Spielberg', 'NAN', '127 min', 8.2, 68)\n",
      "(39, '1917', '2019', 'Sam Mendes', 'NAN', '119 min', 8.2, 78)\n",
      "(40, 'Kill Bill: Vol. 1', '2003', 'Quentin Tarantino', 'NAN', '111 min', 8.2, 69)\n",
      "(41, 'Indiana Jones and the Last Crusade', '1989', 'Steven Spielberg', 'NAN', '127 min', 8.2, 65)\n",
      "(42, 'Batman Begins', '2005', 'Christopher Nolan', 'NAN', '140 min', 8.2, 70)\n",
      "(43, 'Die Hard', '1988', 'John McTiernan', 'NAN', '132 min', 8.2, 72)\n",
      "(44, 'V for Vendetta', '2005', 'James McTeigue', 'NAN', '132 min', 8.2, 62)\n",
      "(45, 'Kimetsu no Yaiba: Mugen Ressha-Hen', '2020', 'Haruo Sotozaki', 'NAN', '117 min', 8.2, 72)\n",
      "(46, 'Vikram Vedha', '2017', 'Gayatri', 'Pushkar', '147 min', 8.2, '^^^^^^^\\n')\n",
      "(47, 'Ran', '1985', 'Akira Kurosawa', 'NAN', '162 min', 8.2, 97)\n",
      "(48, 'Baahubali 2: The Conclusion', '2017', 'S.S. Rajamouli', 'NAN', '167 min', 8.2, '^^^^^^^\\n')\n",
      "(49, 'Yâ„¢jinbâ„¢', '1961', 'Akira Kurosawa', 'NAN', '110 min', 8.2, 93)\n",
      "(50, 'Sherlock Jr.', '1924', 'Buster Keaton', 'NAN', '45 min', 8.2, '^^^^^^^\\n')\n"
     ]
    }
   ],
   "source": [
    "result = cur.execute(\"SELECT * FROM imdbmoviesdata\")\n",
    "for row in result:\n",
    "    print(row)"
   ]
  },
  {
   "cell_type": "code",
   "execution_count": 9,
   "id": "0922d99f",
   "metadata": {},
   "outputs": [
    {
     "name": "stdout",
     "output_type": "stream",
     "text": [
      "(10, 'Terminator 2: Judgment Day', '1991', 'James Cameron', 'NAN', '137 min', 8.6, 75)\n"
     ]
    }
   ],
   "source": [
    "sql = \"SELECT * FROM imdbmoviesdata WHERE SNo =10\"\n",
    "result = cur.execute(sql)\n",
    "for row in result:\n",
    "    print(row)"
   ]
  },
  {
   "cell_type": "code",
   "execution_count": 10,
   "id": "ff110001",
   "metadata": {},
   "outputs": [
    {
     "name": "stdout",
     "output_type": "stream",
     "text": [
      "(43, 'Die Hard', '1988', 'John McTiernan', 'NAN', '132 min', 8.2, 72)\n",
      "(45, 'Kimetsu no Yaiba: Mugen Ressha-Hen', '2020', 'Haruo Sotozaki', 'NAN', '117 min', 8.2, 72)\n"
     ]
    }
   ],
   "source": [
    "sql = \"SELECT * FROM imdbmoviesdata WHERE Metascore = 72\"\n",
    "result = cur.execute(sql)\n",
    "for row in result:\n",
    "    print(row)"
   ]
  },
  {
   "cell_type": "code",
   "execution_count": 11,
   "id": "81108df5",
   "metadata": {},
   "outputs": [
    {
     "name": "stdout",
     "output_type": "stream",
     "text": [
      "(1, 'The Dark Knight', '2008', 'Christopher Nolan', 'NAN', '152 min', 9, 84)\n",
      "(2, 'The Lord of the Rings: The Return of the King', '2003', 'Peter Jackson', 'NAN', '201 min', 9, 94)\n"
     ]
    }
   ],
   "source": [
    "sql = \"SELECT * FROM imdbmoviesdata WHERE Ratings =9\"\n",
    "result = cur.execute(sql)\n",
    "for row in result:\n",
    "    print(row)"
   ]
  },
  {
   "cell_type": "markdown",
   "id": "6ca2bfef",
   "metadata": {},
   "source": [
    "# Phase2:-Quary.1)  Display all the details of movies created by directors Christopher and Matt Reeves."
   ]
  },
  {
   "cell_type": "code",
   "execution_count": 12,
   "id": "34d636c7",
   "metadata": {},
   "outputs": [],
   "source": [
    "#select the Directors names from movies\n",
    "\n",
    "query1 = cur.execute(\"SELECT * FROM imdbmoviesdata Where Director_1 == 'Christopher Nolan' OR Director_2 == 'Matt Reeves'\")\n",
    "for row in result:\n",
    "    print(row)\n"
   ]
  },
  {
   "cell_type": "code",
   "execution_count": 13,
   "id": "1211d40b",
   "metadata": {},
   "outputs": [
    {
     "name": "stdout",
     "output_type": "stream",
     "text": [
      "(18, 'Raiders of the Lost Ark', '1981', 'Steven Spielberg', 'NAN', '115 min', 8.4, 85)\n",
      "(38, 'Jurassic Park', '1993', 'Steven Spielberg', 'NAN', '127 min', 8.2, 68)\n",
      "(41, 'Indiana Jones and the Last Crusade', '1989', 'Steven Spielberg', 'NAN', '127 min', 8.2, 65)\n"
     ]
    }
   ],
   "source": [
    "result = cur.execute(\"SELECT * FROM imdbmoviesdata WHERE director_1 == 'Christopher Nolan' or director_2 ==  'Steven Spielberg'\")\n",
    "for row in result:\n",
    "    print(row)"
   ]
  },
  {
   "cell_type": "code",
   "execution_count": 14,
   "id": "b6824d70",
   "metadata": {},
   "outputs": [],
   "source": [
    "#select the Directors names from movies\n",
    "\n",
    "query1 = cur.execute(\"SELECT * FROM imdbmoviesdata Where Director_1 == 'Christopher Nolan' AND Director_2 == 'Matt Reeves'\")\n",
    "for row in result:\n",
    "    print(row)\n"
   ]
  },
  {
   "cell_type": "code",
   "execution_count": 16,
   "id": "c47117d0",
   "metadata": {},
   "outputs": [],
   "source": [
    "#select the Directors names from movies\n",
    "\n",
    "query1 = cur.execute(\"SELECT * FROM imdbmoviesdata Where Director_1 == 'Christopher Nolan' AND Director_2 == 'Steven Spielberg'\")\n",
    "for row in result:\n",
    "    print(row)\n"
   ]
  },
  {
   "cell_type": "markdown",
   "id": "8e233a03",
   "metadata": {},
   "source": [
    "# Q.2) Display all the details of movies with a duration of 140 minutes to 190 minutes."
   ]
  },
  {
   "cell_type": "code",
   "execution_count": 18,
   "id": "60f89515",
   "metadata": {},
   "outputs": [
    {
     "name": "stdout",
     "output_type": "stream",
     "text": [
      "('SNo.', 'Name Of Movie', 'Yera_of_release', 'Director_1', 'Director_2', 'Duration', 'Ratings', 'Metascore\\n')\n",
      "(1, 'The Dark Knight', '2008', 'Christopher Nolan', 'NAN', '152 min', 9, 84)\n",
      "(2, 'The Lord of the Rings: The Return of the King', '2003', 'Peter Jackson', 'NAN', '201 min', 9, 94)\n",
      "(3, 'Inception', '2010', 'Christopher Nolan', 'NAN', '148 min', 8.8, 74)\n",
      "(4, 'The Lord of the Rings: The Fellowship of the Ring', '2001', 'Peter Jackson', 'NAN', '178 min', 8.8, 92)\n",
      "(5, 'The Lord of the Rings: The Two Towers', '2002', 'Peter Jackson', 'NAN', '179 min', 8.8, 87)\n",
      "(6, 'The Matrix', '1999', 'Lana Wachowski', ' Laurence Fishburne', '136 min', 8.7, 73)\n",
      "(7, 'Star Wars: Episode V - The Empire Strikes Back', '1980', 'Irvin Kershner', 'NAN', '124 min', 8.7, 82)\n",
      "(8, 'Soorarai Pottru', '2020', 'Sudha Kongara', 'NAN', '153 min', 8.7, '^^^^^^^\\n')\n",
      "(9, 'Star Wars', '1977', 'George Lucas', 'NAN', '121 min', 8.6, 90)\n",
      "(10, 'Terminator 2: Judgment Day', '1991', 'James Cameron', 'NAN', '137 min', 8.6, 75)\n",
      "(11, 'Shichinin no samurai', '1954', 'Akira Kurosawa', 'NAN', '207 min', 8.6, 98)\n",
      "(12, 'Seppuku', '1962', 'Masaki Kobayashi', 'NAN', '133 min', 8.6, 85)\n",
      "(13, 'Sita Ramam', '2022', 'Hanu Raghavapudi', 'NAN', '163 min', 8.6, '^^^^^^^\\n')\n",
      "(14, 'LÅ½on', '1994', 'Luc Besson', 'NAN', '110 min', 8.5, 64)\n"
     ]
    }
   ],
   "source": [
    "result = cur.execute(\"SELECT * FROM imdbmoviesdata ORDER BY duration IN(140,190) asc limit 15\")\n",
    "for row in result:\n",
    "    print(row)"
   ]
  },
  {
   "cell_type": "code",
   "execution_count": 20,
   "id": "e399094a",
   "metadata": {},
   "outputs": [
    {
     "name": "stdout",
     "output_type": "stream",
     "text": [
      "('SNo.', 'Name Of Movie', 'Yera_of_release', 'Director_1', 'Director_2', 'Duration', 'Ratings', 'Metascore\\n')\n",
      "(1, 'The Dark Knight', '2008', 'Christopher Nolan', 'NAN', '152 min', 9, 84)\n",
      "(2, 'The Lord of the Rings: The Return of the King', '2003', 'Peter Jackson', 'NAN', '201 min', 9, 94)\n",
      "(3, 'Inception', '2010', 'Christopher Nolan', 'NAN', '148 min', 8.8, 74)\n",
      "(4, 'The Lord of the Rings: The Fellowship of the Ring', '2001', 'Peter Jackson', 'NAN', '178 min', 8.8, 92)\n",
      "(5, 'The Lord of the Rings: The Two Towers', '2002', 'Peter Jackson', 'NAN', '179 min', 8.8, 87)\n",
      "(6, 'The Matrix', '1999', 'Lana Wachowski', ' Laurence Fishburne', '136 min', 8.7, 73)\n",
      "(7, 'Star Wars: Episode V - The Empire Strikes Back', '1980', 'Irvin Kershner', 'NAN', '124 min', 8.7, 82)\n",
      "(8, 'Soorarai Pottru', '2020', 'Sudha Kongara', 'NAN', '153 min', 8.7, '^^^^^^^\\n')\n",
      "(9, 'Star Wars', '1977', 'George Lucas', 'NAN', '121 min', 8.6, 90)\n",
      "(10, 'Terminator 2: Judgment Day', '1991', 'James Cameron', 'NAN', '137 min', 8.6, 75)\n",
      "(11, 'Shichinin no samurai', '1954', 'Akira Kurosawa', 'NAN', '207 min', 8.6, 98)\n",
      "(12, 'Seppuku', '1962', 'Masaki Kobayashi', 'NAN', '133 min', 8.6, 85)\n",
      "(13, 'Sita Ramam', '2022', 'Hanu Raghavapudi', 'NAN', '163 min', 8.6, '^^^^^^^\\n')\n",
      "(14, 'LÅ½on', '1994', 'Luc Besson', 'NAN', '110 min', 8.5, 64)\n",
      "(15, 'Gladiator', '2000', 'Ridley Scott', 'NAN', '155 min', 8.5, 67)\n",
      "(16, 'Avengers: Endgame', '2019', 'Anthony Russo', 'Joe Russo', '181 min', 8.4, 78)\n",
      "(17, 'Spider-Man: Into the Spider-Verse', '2018', 'Bob Persichetti', 'Peter Ramsey', '117 min', 8.4, 87)\n",
      "(18, 'Raiders of the Lost Ark', '1981', 'Steven Spielberg', 'NAN', '115 min', 8.4, 85)\n",
      "(19, 'Avengers: Infinity War', '2018', 'Anthony Russo', 'Joe Russo', '149 min', 8.4, 68)\n",
      "(20, 'Oldeuboi', '2003', 'Park Chan-wook', 'NAN', '101 min', 8.4, 77)\n",
      "(21, 'The Dark Knight Rises', '2012', 'Christopher Nolan', 'NAN', '164 min', 8.4, 78)\n",
      "(22, 'Aliens', '1986', 'James Cameron', 'NAN', '137 min', 8.4, 84)\n",
      "(23, 'Kaithi', '2019', 'Lokesh Kanagaraj', 'NAN', '145 min', 8.4, '^^^^^^^\\n')\n",
      "(24, 'Asuran', '2019', 'Vetrimaaran', 'NAN', '141 min', 8.4, '^^^^^^^\\n')\n"
     ]
    }
   ],
   "source": [
    "result = cur.execute(\"SELECT * FROM imdbmoviesdata ORDER BY duration IN(140,160) asc limit 25\")\n",
    "for row in result:\n",
    "    print(row)"
   ]
  },
  {
   "cell_type": "markdown",
   "id": "2644550e",
   "metadata": {},
   "source": [
    "# Q.3) Display all details of movies with ratings above 7 in ascending order."
   ]
  },
  {
   "cell_type": "code",
   "execution_count": 21,
   "id": "39fdc2be",
   "metadata": {},
   "outputs": [
    {
     "name": "stdout",
     "output_type": "stream",
     "text": [
      "('SNo.', 'Name Of Movie', 'Yera_of_release', 'Director_1', 'Director_2', 'Duration', 'Ratings', 'Metascore\\n')\n",
      "(1, 'The Dark Knight', '2008', 'Christopher Nolan', 'NAN', '152 min', 9, 84)\n",
      "(2, 'The Lord of the Rings: The Return of the King', '2003', 'Peter Jackson', 'NAN', '201 min', 9, 94)\n",
      "(3, 'Inception', '2010', 'Christopher Nolan', 'NAN', '148 min', 8.8, 74)\n",
      "(4, 'The Lord of the Rings: The Fellowship of the Ring', '2001', 'Peter Jackson', 'NAN', '178 min', 8.8, 92)\n",
      "(5, 'The Lord of the Rings: The Two Towers', '2002', 'Peter Jackson', 'NAN', '179 min', 8.8, 87)\n",
      "(6, 'The Matrix', '1999', 'Lana Wachowski', ' Laurence Fishburne', '136 min', 8.7, 73)\n",
      "(7, 'Star Wars: Episode V - The Empire Strikes Back', '1980', 'Irvin Kershner', 'NAN', '124 min', 8.7, 82)\n",
      "(8, 'Soorarai Pottru', '2020', 'Sudha Kongara', 'NAN', '153 min', 8.7, '^^^^^^^\\n')\n",
      "(9, 'Star Wars', '1977', 'George Lucas', 'NAN', '121 min', 8.6, 90)\n",
      "(10, 'Terminator 2: Judgment Day', '1991', 'James Cameron', 'NAN', '137 min', 8.6, 75)\n",
      "(11, 'Shichinin no samurai', '1954', 'Akira Kurosawa', 'NAN', '207 min', 8.6, 98)\n",
      "(12, 'Seppuku', '1962', 'Masaki Kobayashi', 'NAN', '133 min', 8.6, 85)\n",
      "(13, 'Sita Ramam', '2022', 'Hanu Raghavapudi', 'NAN', '163 min', 8.6, '^^^^^^^\\n')\n",
      "(14, 'LÅ½on', '1994', 'Luc Besson', 'NAN', '110 min', 8.5, 64)\n",
      "(15, 'Gladiator', '2000', 'Ridley Scott', 'NAN', '155 min', 8.5, 67)\n",
      "(16, 'Avengers: Endgame', '2019', 'Anthony Russo', 'Joe Russo', '181 min', 8.4, 78)\n",
      "(17, 'Spider-Man: Into the Spider-Verse', '2018', 'Bob Persichetti', 'Peter Ramsey', '117 min', 8.4, 87)\n",
      "(18, 'Raiders of the Lost Ark', '1981', 'Steven Spielberg', 'NAN', '115 min', 8.4, 85)\n",
      "(19, 'Avengers: Infinity War', '2018', 'Anthony Russo', 'Joe Russo', '149 min', 8.4, 68)\n",
      "(20, 'Oldeuboi', '2003', 'Park Chan-wook', 'NAN', '101 min', 8.4, 77)\n",
      "(21, 'The Dark Knight Rises', '2012', 'Christopher Nolan', 'NAN', '164 min', 8.4, 78)\n",
      "(22, 'Aliens', '1986', 'James Cameron', 'NAN', '137 min', 8.4, 84)\n",
      "(23, 'Kaithi', '2019', 'Lokesh Kanagaraj', 'NAN', '145 min', 8.4, '^^^^^^^\\n')\n",
      "(24, 'Asuran', '2019', 'Vetrimaaran', 'NAN', '141 min', 8.4, '^^^^^^^\\n')\n",
      "(25, 'Heat', '1995', 'Michael Mann', 'NAN', '170 min', 8.3, 76)\n",
      "(26, 'Top Gun: Maverick', '2022', 'Joseph Kosinski', 'NAN', '130 min', 8.3, 78)\n",
      "(27, 'Star Wars: Episode VI - Return of the Jedi', '1983', 'Richard Marquand', 'NAN', '131 min', 8.3, 58)\n",
      "(28, 'Mononoke-hime', '1997', 'Hayao Miyazaki', 'NAN', '134 min', 8.3, 76)\n",
      "(29, 'North by Northwest', '1959', 'Alfred Hitchcock', 'NAN', '136 min', 8.3, 98)\n",
      "(30, 'Kantara', '2022', 'Rishab Shetty', 'NAN', '148 min', 8.3, '^^^^^^^\\n')\n",
      "(31, 'Dangal', '2016', 'Nitesh Tiwari', 'NAN', '161 min', 8.3, '^^^^^^^\\n')\n",
      "(32, 'K.G.F: Chapter 2', '2022', 'Prashanth Neel', 'NAN', '168 min', 8.3, '^^^^^^^\\n')\n",
      "(33, 'Vikram', '2022', 'Lokesh Kanagaraj', 'NAN', '175 min', 8.3, '^^^^^^^\\n')\n",
      "(34, 'Ratsasan', '2018', 'Ram Kumar', 'NAN', '170 min', 8.3, '^^^^^^^\\n')\n",
      "(35, 'Shershaah', '2021', 'Vishnuvardhan', 'NAN', '135 min', 8.3, '^^^^^^^\\n')\n",
      "(36, 'Guardians of the Galaxy Vol. 3', '2023', 'James Gunn', 'NAN', '150 min', 8.2, 64)\n",
      "(37, 'Spider-Man: No Way Home', '2021', 'Jon Watts', 'NAN', '148 min', 8.2, 71)\n",
      "(38, 'Jurassic Park', '1993', 'Steven Spielberg', 'NAN', '127 min', 8.2, 68)\n",
      "(39, '1917', '2019', 'Sam Mendes', 'NAN', '119 min', 8.2, 78)\n",
      "(40, 'Kill Bill: Vol. 1', '2003', 'Quentin Tarantino', 'NAN', '111 min', 8.2, 69)\n",
      "(41, 'Indiana Jones and the Last Crusade', '1989', 'Steven Spielberg', 'NAN', '127 min', 8.2, 65)\n",
      "(42, 'Batman Begins', '2005', 'Christopher Nolan', 'NAN', '140 min', 8.2, 70)\n",
      "(43, 'Die Hard', '1988', 'John McTiernan', 'NAN', '132 min', 8.2, 72)\n",
      "(44, 'V for Vendetta', '2005', 'James McTeigue', 'NAN', '132 min', 8.2, 62)\n",
      "(45, 'Kimetsu no Yaiba: Mugen Ressha-Hen', '2020', 'Haruo Sotozaki', 'NAN', '117 min', 8.2, 72)\n",
      "(46, 'Vikram Vedha', '2017', 'Gayatri', 'Pushkar', '147 min', 8.2, '^^^^^^^\\n')\n",
      "(47, 'Ran', '1985', 'Akira Kurosawa', 'NAN', '162 min', 8.2, 97)\n",
      "(48, 'Baahubali 2: The Conclusion', '2017', 'S.S. Rajamouli', 'NAN', '167 min', 8.2, '^^^^^^^\\n')\n",
      "(49, 'Yâ„¢jinbâ„¢', '1961', 'Akira Kurosawa', 'NAN', '110 min', 8.2, 93)\n",
      "(50, 'Sherlock Jr.', '1924', 'Buster Keaton', 'NAN', '45 min', 8.2, '^^^^^^^\\n')\n"
     ]
    }
   ],
   "source": [
    "result = cur.execute(\"SELECT * FROM imdbmoviesdata WHERE Ratings>7\")\n",
    "for row in result:\n",
    "    print(row)"
   ]
  },
  {
   "cell_type": "code",
   "execution_count": 23,
   "id": "5a631eb1",
   "metadata": {},
   "outputs": [
    {
     "name": "stdout",
     "output_type": "stream",
     "text": [
      "('SNo.', 'Name Of Movie', 'Yera_of_release', 'Director_1', 'Director_2', 'Duration', 'Ratings', 'Metascore\\n')\n",
      "(1, 'The Dark Knight', '2008', 'Christopher Nolan', 'NAN', '152 min', 9, 84)\n",
      "(2, 'The Lord of the Rings: The Return of the King', '2003', 'Peter Jackson', 'NAN', '201 min', 9, 94)\n"
     ]
    }
   ],
   "source": [
    "result = cur.execute(\"SELECT * FROM imdbmoviesdata WHERE Ratings>=9\")\n",
    "for row in result:\n",
    "    print(row)"
   ]
  },
  {
   "cell_type": "markdown",
   "id": "bada6ef5",
   "metadata": {},
   "source": [
    "# Quary.4) Display all movie names in descending order."
   ]
  },
  {
   "cell_type": "code",
   "execution_count": 24,
   "id": "0a675bb5",
   "metadata": {},
   "outputs": [
    {
     "name": "stdout",
     "output_type": "stream",
     "text": [
      "(49, 'Yâ„¢jinbâ„¢', '1961', 'Akira Kurosawa', 'NAN', '110 min', 8.2, 93)\n",
      "(46, 'Vikram Vedha', '2017', 'Gayatri', 'Pushkar', '147 min', 8.2, '^^^^^^^\\n')\n",
      "(33, 'Vikram', '2022', 'Lokesh Kanagaraj', 'NAN', '175 min', 8.3, '^^^^^^^\\n')\n",
      "(44, 'V for Vendetta', '2005', 'James McTeigue', 'NAN', '132 min', 8.2, 62)\n",
      "(26, 'Top Gun: Maverick', '2022', 'Joseph Kosinski', 'NAN', '130 min', 8.3, 78)\n",
      "(6, 'The Matrix', '1999', 'Lana Wachowski', ' Laurence Fishburne', '136 min', 8.7, 73)\n",
      "(5, 'The Lord of the Rings: The Two Towers', '2002', 'Peter Jackson', 'NAN', '179 min', 8.8, 87)\n",
      "(2, 'The Lord of the Rings: The Return of the King', '2003', 'Peter Jackson', 'NAN', '201 min', 9, 94)\n",
      "(4, 'The Lord of the Rings: The Fellowship of the Ring', '2001', 'Peter Jackson', 'NAN', '178 min', 8.8, 92)\n",
      "(21, 'The Dark Knight Rises', '2012', 'Christopher Nolan', 'NAN', '164 min', 8.4, 78)\n",
      "(1, 'The Dark Knight', '2008', 'Christopher Nolan', 'NAN', '152 min', 9, 84)\n",
      "(10, 'Terminator 2: Judgment Day', '1991', 'James Cameron', 'NAN', '137 min', 8.6, 75)\n",
      "(27, 'Star Wars: Episode VI - Return of the Jedi', '1983', 'Richard Marquand', 'NAN', '131 min', 8.3, 58)\n",
      "(7, 'Star Wars: Episode V - The Empire Strikes Back', '1980', 'Irvin Kershner', 'NAN', '124 min', 8.7, 82)\n",
      "(9, 'Star Wars', '1977', 'George Lucas', 'NAN', '121 min', 8.6, 90)\n",
      "(37, 'Spider-Man: No Way Home', '2021', 'Jon Watts', 'NAN', '148 min', 8.2, 71)\n",
      "(17, 'Spider-Man: Into the Spider-Verse', '2018', 'Bob Persichetti', 'Peter Ramsey', '117 min', 8.4, 87)\n",
      "(8, 'Soorarai Pottru', '2020', 'Sudha Kongara', 'NAN', '153 min', 8.7, '^^^^^^^\\n')\n",
      "(13, 'Sita Ramam', '2022', 'Hanu Raghavapudi', 'NAN', '163 min', 8.6, '^^^^^^^\\n')\n",
      "(11, 'Shichinin no samurai', '1954', 'Akira Kurosawa', 'NAN', '207 min', 8.6, 98)\n",
      "(35, 'Shershaah', '2021', 'Vishnuvardhan', 'NAN', '135 min', 8.3, '^^^^^^^\\n')\n",
      "(50, 'Sherlock Jr.', '1924', 'Buster Keaton', 'NAN', '45 min', 8.2, '^^^^^^^\\n')\n",
      "(12, 'Seppuku', '1962', 'Masaki Kobayashi', 'NAN', '133 min', 8.6, 85)\n",
      "(34, 'Ratsasan', '2018', 'Ram Kumar', 'NAN', '170 min', 8.3, '^^^^^^^\\n')\n",
      "(47, 'Ran', '1985', 'Akira Kurosawa', 'NAN', '162 min', 8.2, 97)\n",
      "(18, 'Raiders of the Lost Ark', '1981', 'Steven Spielberg', 'NAN', '115 min', 8.4, 85)\n",
      "(20, 'Oldeuboi', '2003', 'Park Chan-wook', 'NAN', '101 min', 8.4, 77)\n",
      "(29, 'North by Northwest', '1959', 'Alfred Hitchcock', 'NAN', '136 min', 8.3, 98)\n",
      "('SNo.', 'Name Of Movie', 'Yera_of_release', 'Director_1', 'Director_2', 'Duration', 'Ratings', 'Metascore\\n')\n",
      "(28, 'Mononoke-hime', '1997', 'Hayao Miyazaki', 'NAN', '134 min', 8.3, 76)\n",
      "(14, 'LÅ½on', '1994', 'Luc Besson', 'NAN', '110 min', 8.5, 64)\n",
      "(45, 'Kimetsu no Yaiba: Mugen Ressha-Hen', '2020', 'Haruo Sotozaki', 'NAN', '117 min', 8.2, 72)\n",
      "(40, 'Kill Bill: Vol. 1', '2003', 'Quentin Tarantino', 'NAN', '111 min', 8.2, 69)\n",
      "(30, 'Kantara', '2022', 'Rishab Shetty', 'NAN', '148 min', 8.3, '^^^^^^^\\n')\n",
      "(23, 'Kaithi', '2019', 'Lokesh Kanagaraj', 'NAN', '145 min', 8.4, '^^^^^^^\\n')\n",
      "(32, 'K.G.F: Chapter 2', '2022', 'Prashanth Neel', 'NAN', '168 min', 8.3, '^^^^^^^\\n')\n",
      "(38, 'Jurassic Park', '1993', 'Steven Spielberg', 'NAN', '127 min', 8.2, 68)\n",
      "(41, 'Indiana Jones and the Last Crusade', '1989', 'Steven Spielberg', 'NAN', '127 min', 8.2, 65)\n",
      "(3, 'Inception', '2010', 'Christopher Nolan', 'NAN', '148 min', 8.8, 74)\n",
      "(25, 'Heat', '1995', 'Michael Mann', 'NAN', '170 min', 8.3, 76)\n",
      "(36, 'Guardians of the Galaxy Vol. 3', '2023', 'James Gunn', 'NAN', '150 min', 8.2, 64)\n",
      "(15, 'Gladiator', '2000', 'Ridley Scott', 'NAN', '155 min', 8.5, 67)\n",
      "(43, 'Die Hard', '1988', 'John McTiernan', 'NAN', '132 min', 8.2, 72)\n",
      "(31, 'Dangal', '2016', 'Nitesh Tiwari', 'NAN', '161 min', 8.3, '^^^^^^^\\n')\n",
      "(42, 'Batman Begins', '2005', 'Christopher Nolan', 'NAN', '140 min', 8.2, 70)\n",
      "(48, 'Baahubali 2: The Conclusion', '2017', 'S.S. Rajamouli', 'NAN', '167 min', 8.2, '^^^^^^^\\n')\n",
      "(19, 'Avengers: Infinity War', '2018', 'Anthony Russo', 'Joe Russo', '149 min', 8.4, 68)\n",
      "(16, 'Avengers: Endgame', '2019', 'Anthony Russo', 'Joe Russo', '181 min', 8.4, 78)\n",
      "(24, 'Asuran', '2019', 'Vetrimaaran', 'NAN', '141 min', 8.4, '^^^^^^^\\n')\n",
      "(22, 'Aliens', '1986', 'James Cameron', 'NAN', '137 min', 8.4, 84)\n",
      "(39, '1917', '2019', 'Sam Mendes', 'NAN', '119 min', 8.2, 78)\n"
     ]
    }
   ],
   "source": [
    "# How to change the order of records(Increasing or decreasing)\n",
    "result = cur.execute(\"SELECT * FROM imdbmoviesdata ORDER BY movie_name desc\")\n",
    "for row in result:\n",
    "    print(row)"
   ]
  },
  {
   "cell_type": "code",
   "execution_count": 25,
   "id": "eda920da",
   "metadata": {},
   "outputs": [
    {
     "name": "stdout",
     "output_type": "stream",
     "text": [
      "(39, '1917', '2019', 'Sam Mendes', 'NAN', '119 min', 8.2, 78)\n",
      "(22, 'Aliens', '1986', 'James Cameron', 'NAN', '137 min', 8.4, 84)\n",
      "(24, 'Asuran', '2019', 'Vetrimaaran', 'NAN', '141 min', 8.4, '^^^^^^^\\n')\n",
      "(16, 'Avengers: Endgame', '2019', 'Anthony Russo', 'Joe Russo', '181 min', 8.4, 78)\n",
      "(19, 'Avengers: Infinity War', '2018', 'Anthony Russo', 'Joe Russo', '149 min', 8.4, 68)\n",
      "(48, 'Baahubali 2: The Conclusion', '2017', 'S.S. Rajamouli', 'NAN', '167 min', 8.2, '^^^^^^^\\n')\n",
      "(42, 'Batman Begins', '2005', 'Christopher Nolan', 'NAN', '140 min', 8.2, 70)\n",
      "(31, 'Dangal', '2016', 'Nitesh Tiwari', 'NAN', '161 min', 8.3, '^^^^^^^\\n')\n",
      "(43, 'Die Hard', '1988', 'John McTiernan', 'NAN', '132 min', 8.2, 72)\n",
      "(15, 'Gladiator', '2000', 'Ridley Scott', 'NAN', '155 min', 8.5, 67)\n",
      "(36, 'Guardians of the Galaxy Vol. 3', '2023', 'James Gunn', 'NAN', '150 min', 8.2, 64)\n",
      "(25, 'Heat', '1995', 'Michael Mann', 'NAN', '170 min', 8.3, 76)\n",
      "(3, 'Inception', '2010', 'Christopher Nolan', 'NAN', '148 min', 8.8, 74)\n",
      "(41, 'Indiana Jones and the Last Crusade', '1989', 'Steven Spielberg', 'NAN', '127 min', 8.2, 65)\n",
      "(38, 'Jurassic Park', '1993', 'Steven Spielberg', 'NAN', '127 min', 8.2, 68)\n",
      "(32, 'K.G.F: Chapter 2', '2022', 'Prashanth Neel', 'NAN', '168 min', 8.3, '^^^^^^^\\n')\n",
      "(23, 'Kaithi', '2019', 'Lokesh Kanagaraj', 'NAN', '145 min', 8.4, '^^^^^^^\\n')\n",
      "(30, 'Kantara', '2022', 'Rishab Shetty', 'NAN', '148 min', 8.3, '^^^^^^^\\n')\n",
      "(40, 'Kill Bill: Vol. 1', '2003', 'Quentin Tarantino', 'NAN', '111 min', 8.2, 69)\n",
      "(45, 'Kimetsu no Yaiba: Mugen Ressha-Hen', '2020', 'Haruo Sotozaki', 'NAN', '117 min', 8.2, 72)\n",
      "(14, 'LÅ½on', '1994', 'Luc Besson', 'NAN', '110 min', 8.5, 64)\n",
      "(28, 'Mononoke-hime', '1997', 'Hayao Miyazaki', 'NAN', '134 min', 8.3, 76)\n",
      "('SNo.', 'Name Of Movie', 'Yera_of_release', 'Director_1', 'Director_2', 'Duration', 'Ratings', 'Metascore\\n')\n",
      "(29, 'North by Northwest', '1959', 'Alfred Hitchcock', 'NAN', '136 min', 8.3, 98)\n",
      "(20, 'Oldeuboi', '2003', 'Park Chan-wook', 'NAN', '101 min', 8.4, 77)\n",
      "(18, 'Raiders of the Lost Ark', '1981', 'Steven Spielberg', 'NAN', '115 min', 8.4, 85)\n",
      "(47, 'Ran', '1985', 'Akira Kurosawa', 'NAN', '162 min', 8.2, 97)\n",
      "(34, 'Ratsasan', '2018', 'Ram Kumar', 'NAN', '170 min', 8.3, '^^^^^^^\\n')\n",
      "(12, 'Seppuku', '1962', 'Masaki Kobayashi', 'NAN', '133 min', 8.6, 85)\n",
      "(50, 'Sherlock Jr.', '1924', 'Buster Keaton', 'NAN', '45 min', 8.2, '^^^^^^^\\n')\n",
      "(35, 'Shershaah', '2021', 'Vishnuvardhan', 'NAN', '135 min', 8.3, '^^^^^^^\\n')\n",
      "(11, 'Shichinin no samurai', '1954', 'Akira Kurosawa', 'NAN', '207 min', 8.6, 98)\n",
      "(13, 'Sita Ramam', '2022', 'Hanu Raghavapudi', 'NAN', '163 min', 8.6, '^^^^^^^\\n')\n",
      "(8, 'Soorarai Pottru', '2020', 'Sudha Kongara', 'NAN', '153 min', 8.7, '^^^^^^^\\n')\n",
      "(17, 'Spider-Man: Into the Spider-Verse', '2018', 'Bob Persichetti', 'Peter Ramsey', '117 min', 8.4, 87)\n",
      "(37, 'Spider-Man: No Way Home', '2021', 'Jon Watts', 'NAN', '148 min', 8.2, 71)\n",
      "(9, 'Star Wars', '1977', 'George Lucas', 'NAN', '121 min', 8.6, 90)\n",
      "(7, 'Star Wars: Episode V - The Empire Strikes Back', '1980', 'Irvin Kershner', 'NAN', '124 min', 8.7, 82)\n",
      "(27, 'Star Wars: Episode VI - Return of the Jedi', '1983', 'Richard Marquand', 'NAN', '131 min', 8.3, 58)\n",
      "(10, 'Terminator 2: Judgment Day', '1991', 'James Cameron', 'NAN', '137 min', 8.6, 75)\n",
      "(1, 'The Dark Knight', '2008', 'Christopher Nolan', 'NAN', '152 min', 9, 84)\n",
      "(21, 'The Dark Knight Rises', '2012', 'Christopher Nolan', 'NAN', '164 min', 8.4, 78)\n",
      "(4, 'The Lord of the Rings: The Fellowship of the Ring', '2001', 'Peter Jackson', 'NAN', '178 min', 8.8, 92)\n",
      "(2, 'The Lord of the Rings: The Return of the King', '2003', 'Peter Jackson', 'NAN', '201 min', 9, 94)\n",
      "(5, 'The Lord of the Rings: The Two Towers', '2002', 'Peter Jackson', 'NAN', '179 min', 8.8, 87)\n",
      "(6, 'The Matrix', '1999', 'Lana Wachowski', ' Laurence Fishburne', '136 min', 8.7, 73)\n",
      "(26, 'Top Gun: Maverick', '2022', 'Joseph Kosinski', 'NAN', '130 min', 8.3, 78)\n",
      "(44, 'V for Vendetta', '2005', 'James McTeigue', 'NAN', '132 min', 8.2, 62)\n",
      "(33, 'Vikram', '2022', 'Lokesh Kanagaraj', 'NAN', '175 min', 8.3, '^^^^^^^\\n')\n",
      "(46, 'Vikram Vedha', '2017', 'Gayatri', 'Pushkar', '147 min', 8.2, '^^^^^^^\\n')\n",
      "(49, 'Yâ„¢jinbâ„¢', '1961', 'Akira Kurosawa', 'NAN', '110 min', 8.2, 93)\n"
     ]
    }
   ],
   "source": [
    "# How to change the order of records(Increasing or decreasing)\n",
    "result = cur.execute(\"SELECT * FROM imdbmoviesdata ORDER BY movie_name asc\")\n",
    "for row in result:\n",
    "    print(row)"
   ]
  },
  {
   "cell_type": "markdown",
   "id": "71b0caf3",
   "metadata": {},
   "source": [
    "# 5. Display movie name starts with ‘P’ and their rating is greater than 7."
   ]
  },
  {
   "cell_type": "code",
   "execution_count": 29,
   "id": "045b603a",
   "metadata": {},
   "outputs": [],
   "source": [
    "result = cur.execute(\"SELECT * FROM imdbmoviesdata WHERE movie_name like 'P%' AND Ratings>7\")\n",
    "for row in result:\n",
    "    print(row)\n"
   ]
  },
  {
   "cell_type": "code",
   "execution_count": 30,
   "id": "57186771",
   "metadata": {},
   "outputs": [
    {
     "name": "stdout",
     "output_type": "stream",
     "text": [
      "(1, 'The Dark Knight', '2008', 'Christopher Nolan', 'NAN', '152 min', 9, 84)\n",
      "(2, 'The Lord of the Rings: The Return of the King', '2003', 'Peter Jackson', 'NAN', '201 min', 9, 94)\n",
      "(4, 'The Lord of the Rings: The Fellowship of the Ring', '2001', 'Peter Jackson', 'NAN', '178 min', 8.8, 92)\n",
      "(5, 'The Lord of the Rings: The Two Towers', '2002', 'Peter Jackson', 'NAN', '179 min', 8.8, 87)\n",
      "(6, 'The Matrix', '1999', 'Lana Wachowski', ' Laurence Fishburne', '136 min', 8.7, 73)\n",
      "(10, 'Terminator 2: Judgment Day', '1991', 'James Cameron', 'NAN', '137 min', 8.6, 75)\n",
      "(21, 'The Dark Knight Rises', '2012', 'Christopher Nolan', 'NAN', '164 min', 8.4, 78)\n",
      "(26, 'Top Gun: Maverick', '2022', 'Joseph Kosinski', 'NAN', '130 min', 8.3, 78)\n"
     ]
    }
   ],
   "source": [
    "result = cur.execute(\"SELECT * FROM imdbmoviesdata WHERE movie_name like 'T%'\")\n",
    "for row in result:\n",
    "    print(row)\n"
   ]
  },
  {
   "cell_type": "code",
   "execution_count": 31,
   "id": "d8e7bbb4",
   "metadata": {},
   "outputs": [],
   "source": [
    "result = cur.execute(\"SELECT * FROM imdbmoviesdata WHERE director_1 like 'S%' AND Ratings>7\")\n",
    "for row in result:\n",
    "    print(row)\n"
   ]
  },
  {
   "cell_type": "code",
   "execution_count": 32,
   "id": "0bd4ca22",
   "metadata": {},
   "outputs": [
    {
     "name": "stdout",
     "output_type": "stream",
     "text": [
      "(1, 'The Dark Knight', '2008', 'Christopher Nolan', 'NAN', '152 min', 9, 84)\n",
      "(2, 'The Lord of the Rings: The Return of the King', '2003', 'Peter Jackson', 'NAN', '201 min', 9, 94)\n",
      "(4, 'The Lord of the Rings: The Fellowship of the Ring', '2001', 'Peter Jackson', 'NAN', '178 min', 8.8, 92)\n",
      "(5, 'The Lord of the Rings: The Two Towers', '2002', 'Peter Jackson', 'NAN', '179 min', 8.8, 87)\n",
      "(6, 'The Matrix', '1999', 'Lana Wachowski', ' Laurence Fishburne', '136 min', 8.7, 73)\n",
      "(10, 'Terminator 2: Judgment Day', '1991', 'James Cameron', 'NAN', '137 min', 8.6, 75)\n",
      "(21, 'The Dark Knight Rises', '2012', 'Christopher Nolan', 'NAN', '164 min', 8.4, 78)\n",
      "(26, 'Top Gun: Maverick', '2022', 'Joseph Kosinski', 'NAN', '130 min', 8.3, 78)\n"
     ]
    }
   ],
   "source": [
    "result = cur.execute(\"SELECT * FROM imdbmoviesdata WHERE movie_name like 'T%' AND Ratings>7\")\n",
    "for row in result:\n",
    "    print(row)\n"
   ]
  },
  {
   "cell_type": "markdown",
   "id": "28877ee6",
   "metadata": {},
   "source": [
    "# *************DONE***********"
   ]
  },
  {
   "cell_type": "code",
   "execution_count": null,
   "id": "82e05c15",
   "metadata": {},
   "outputs": [],
   "source": []
  }
 ],
 "metadata": {
  "kernelspec": {
   "display_name": "Python 3 (ipykernel)",
   "language": "python",
   "name": "python3"
  },
  "language_info": {
   "codemirror_mode": {
    "name": "ipython",
    "version": 3
   },
   "file_extension": ".py",
   "mimetype": "text/x-python",
   "name": "python",
   "nbconvert_exporter": "python",
   "pygments_lexer": "ipython3",
   "version": "3.9.12"
  }
 },
 "nbformat": 4,
 "nbformat_minor": 5
}

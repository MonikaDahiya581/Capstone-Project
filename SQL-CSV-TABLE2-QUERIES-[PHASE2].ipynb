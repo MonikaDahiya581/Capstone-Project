{
 "cells": [
  {
   "cell_type": "markdown",
   "id": "b139aa2f",
   "metadata": {},
   "source": [
    "# SQLITE DATABASE QUERIES FOR CSV FILE2 TABLE2 -[PHASE2]"
   ]
  },
  {
   "cell_type": "code",
   "execution_count": 1,
   "id": "0dc4b0f4",
   "metadata": {},
   "outputs": [],
   "source": [
    "import sqlite3"
   ]
  },
  {
   "cell_type": "code",
   "execution_count": 8,
   "id": "2331c211",
   "metadata": {},
   "outputs": [],
   "source": [
    "db = sqlite3.connect('IMDB_DATA10_database.db')"
   ]
  },
  {
   "cell_type": "code",
   "execution_count": 9,
   "id": "8ec117dc",
   "metadata": {},
   "outputs": [],
   "source": [
    "cur = db.cursor()"
   ]
  },
  {
   "cell_type": "code",
   "execution_count": 13,
   "id": "4cbbf0d2",
   "metadata": {},
   "outputs": [
    {
     "data": {
      "text/plain": [
       "<sqlite3.Cursor at 0x1c4783fcea0>"
      ]
     },
     "execution_count": 13,
     "metadata": {},
     "output_type": "execute_result"
    }
   ],
   "source": [
    "cur.execute('create table IMDB_DATA10(id int primary key,movie_name text,star1 text,star2 text,star3 text,star4 text,genre1 text,genre2 text,genre3 text,votes int,Gross_collection int,ratings int,certification text)')"
   ]
  },
  {
   "cell_type": "code",
   "execution_count": 14,
   "id": "247f4903",
   "metadata": {},
   "outputs": [
    {
     "name": "stdout",
     "output_type": "stream",
     "text": [
      "51 Records inserted in table\n"
     ]
    }
   ],
   "source": [
    "with open('IMDB_DATA10.csv','r') as file:\n",
    "    total_records = 0\n",
    "    for row in file:\n",
    "        cur.execute(\"insert into IMDB_DATA10 values(?,?,?,?,?,?,?,?,?,?,?,?,?)\",row.split(\",\"))\n",
    "        db.commit()\n",
    "        total_records+=1\n",
    "print(total_records,'Records inserted in table')"
   ]
  },
  {
   "cell_type": "code",
   "execution_count": 15,
   "id": "992da6a2",
   "metadata": {},
   "outputs": [
    {
     "name": "stdout",
     "output_type": "stream",
     "text": [
      "('Movie_name',)\n",
      "('The Dark Knight',)\n",
      "('The Lord of the Rings:TROK',)\n",
      "('Inception',)\n",
      "('The Lord of the Rings:TFOR',)\n",
      "('The Lord of the Rings:TTT',)\n",
      "('The Matrix',)\n",
      "('Star Wars:EpiV-TESB',)\n",
      "('Soorarai Pottru',)\n",
      "('Star Wars',)\n",
      "('Terminator 2:Judgment Day',)\n",
      "('Shichinin no samurai',)\n",
      "('Seppuku',)\n",
      "('Sita Ramam',)\n",
      "('LÃ©on',)\n",
      "('Gladiator',)\n",
      "('Spider-Man:ITSV',)\n",
      "('Avengers: Endgame',)\n",
      "('Raiders of the Lost Ark',)\n",
      "('Avengers: Infinity War',)\n",
      "('Oldeuboi',)\n",
      "('The Dark Knight Rises',)\n",
      "('Aliens',)\n",
      "('Kaithi',)\n",
      "('Asuran',)\n",
      "('Top Gun: Maverick',)\n",
      "('Heat',)\n",
      "('Star Wars:EpVI-ROTJ',)\n",
      "('Mononoke-hime',)\n",
      "('North by Northwest',)\n",
      "('Kantara',)\n",
      "('Dangal',)\n",
      "('K.G.F: Chapter 2',)\n",
      "('Vikram',)\n",
      "('Ratsasan',)\n",
      "('Shershaah',)\n",
      "('Guardians of the Galaxy Vol3',)\n",
      "('Spider-Man: No Way Home',)\n",
      "('Jurassic Park',)\n",
      "('Indiana Jones and the Last Crusade',)\n",
      "('1917',)\n",
      "('Kill Bill: Vol. 1',)\n",
      "('Batman Begins',)\n",
      "('Die Hard',)\n",
      "('V for Vendetta',)\n",
      "('Kimetsu no Yaiba:Mugen R-H',)\n",
      "('Ran',)\n",
      "('Gangs of Wasseypur',)\n",
      "('Vikram Vedha',)\n",
      "('Baahubali 2: The Conclusion',)\n",
      "('YÃ´jinbÃ´',)\n"
     ]
    }
   ],
   "source": [
    "result = cur.execute(\"SELECT Movie_name FROM IMDB_DATA10\")\n",
    "for row in result:\n",
    "    print(row)"
   ]
  },
  {
   "cell_type": "code",
   "execution_count": 16,
   "id": "f846a91b",
   "metadata": {},
   "outputs": [
    {
     "name": "stdout",
     "output_type": "stream",
     "text": [
      "(10, 'Shichinin no samurai', 'ToshirÃ´ Mifune', ' Takashi Shimura', ' Keiko Tsushima', ' Yukiko Shimazaki', '\"352734\"', ' Action', ' Drama', 'NONE', '$0.27M', 8.6, 'U\\n')\n"
     ]
    }
   ],
   "source": [
    "sql = \"SELECT * FROM IMDB_DATA10 WHERE id =10\"\n",
    "result = cur.execute(sql)\n",
    "for row in result:\n",
    "    print(row)"
   ]
  },
  {
   "cell_type": "code",
   "execution_count": 17,
   "id": "f5cbab57",
   "metadata": {},
   "outputs": [
    {
     "name": "stdout",
     "output_type": "stream",
     "text": [
      "('id', 'Movie_name', 'Star1', 'Star2', 'Star3', 'Star4', 'Votes', 'Genre1', 'Genre2', 'Genre3', 'Gross_collection', 'Popularity', 'Certificates\\n')\n",
      "(0, 'The Dark Knight', 'Christian Bale', ' Heath Ledger', ' Aaron Eckhart', ' Michael Caine', '\"2717319\"', 'Action', ' Crime', 'Drama', '$534.86M', 9, 'UA\\n')\n",
      "(1, 'The Lord of the Rings:TROK', 'Elijah Wood', 'Viggo Mortensen', 'Ian McKellen', 'Orlando Bloom', '\"1886502\"', 'Action', ' Adventure', 'Drama', '$377.85M', 9, 'U\\n')\n",
      "(2, 'Inception', ' Leonardo DiCaprio', ' Joseph Gordon-Levitt', ' Elliot Page', ' Ken Watanabe', '\"2412114\"', 'Action', ' Adventure', ' Sci-Fi', '$292.58M', 8.8, 'UA\\n')\n",
      "(3, 'The Lord of the Rings:TFOR', ' Elijah Wood', ' Ian McKellen', 'Orlando Bloom', 'Sean Bean', '1915211', 'Action', 'Adventure', ' Drama', '$315.54M', 8.8, 'U\\n')\n",
      "(4, 'The Lord of the Rings:TTT', 'Elijah Wood', ' Ian McKellen', ' Viggo Mortensen', ' Orlando Bloom', '\"1702799\"', 'Action', ' Adventure', ' Drama', '$342.55M', 8.8, 'UA\\n')\n",
      "(5, 'The Matrix', 'Keanu Reeves', ' Laurence Fishburne', ' Carrie-Anne Moss', ' Hugo Weaving', '\"1957142\"', 'Action', ' Sci-Fi', 'NONE', '$171.48M', 8.7, 'A\\n')\n",
      "(6, 'Star Wars:EpiV-TESB', 'Mark Hamill', 'Harrison Ford', 'Carrie Fisher', 'Billy Dee Williams', '\"1320682\"', 'Action', 'Adventure', 'Fantasy', '$290.48M', 8.7, 'UA\\n')\n",
      "(7, 'Soorarai Pottru', 'Suriya', ' Paresh Rawal', ' Aparna Balamurali', ' Urvashi', '\"119466\"', 'Action', ' Drama ', 'NONE', '******', 8.7, 'U\\n')\n",
      "(8, 'Star Wars', 'Mark Hamill', ' Harrison Ford', ' Carrie Fisher', ' Alec Guinness', '\"1393133\"', 'Action', ' Adventure', ' Fantasy', '$322.74M', 8.6, 'U\\n')\n",
      "(9, 'Terminator 2:Judgment Day', 'Arnold Schwarzenegger', ' Linda Hamilton', 'Edward Furlong', 'Robert Patrick', '\"1122657\"', 'Action', ' Sci-Fi', 'NONE', '$204.84M', 8.6, 'A\\n')\n",
      "(10, 'Shichinin no samurai', 'ToshirÃ´ Mifune', ' Takashi Shimura', ' Keiko Tsushima', ' Yukiko Shimazaki', '\"352734\"', ' Action', ' Drama', 'NONE', '$0.27M', 8.6, 'U\\n')\n",
      "(11, 'Seppuku', 'Tatsuya Nakadai', ' Akira Ishihama', ' Shima Iwashita', ' TetsurÃ´ Tanba', '\"60929\"', ' Action', ' Drama', ' Mystery', '******', 8.6, 'U\\n')\n",
      "(12, 'Sita Ramam', 'Dulquer Salmaan', ' Mrunal Thakur', ' Rashmika Mandanna', ' Sumanth', '\"59782\"', ' Action', ' Drama', ' Mystery', '******', 8.6, 'U\\n')\n",
      "(13, 'LÃ©on', 'Jean Reno', ' Gary Oldman', ' Natalie Portman', ' Danny Aiello', '\"1188964\"', ' Action', ' Crime', ' Drama', '$19.50M', 8.5, 'A\\n')\n",
      "(14, 'Gladiator', 'Russell Crowe', ' Joaquin Phoenix', ' Connie Nielsen', ' Oliver Reed', '\"1535664\"', ' Action', ' Adventure', ' Drama', '$187.71M', 8.5, 'UA\\n')\n",
      "(15, 'Spider-Man:ITSV', 'Shameik Moore', 'Jake Johnson', 'Hailee Steinfeld', 'Mahershala Ali', '\"564166\"', 'Animation', ' Action', ' Adventure', '$190.24M', 8.4, 'U\\n')\n",
      "(16, 'Avengers: Endgame', 'Robert Downey Jr.', ' Chris Evans', ' Mark Ruffalo', ' Chris Hemsworth', '\"1179251\"', 'Action', ' Adventure', ' Drama', '$858.37M', 8.4, 'UA\\n')\n",
      "(17, 'Raiders of the Lost Ark', 'Harrison Ford', ' Karen Allen', ' Paul Freeman', ' John Rhys-Davies', '\"985863\"', 'Action', ' Adventure', 'NONE', '$248.16M', 8.4, 'A\\n')\n",
      "(18, 'Avengers: Infinity War', 'Robert Downey Jr.', ' Chris Hemsworth', ' Mark Ruffalo', ' Chris Evans', '\"1122684\"', 'Action', ' Adventure', ' Sci-Fi', '$678.82M', 8.4, 'UA\\n')\n",
      "(19, 'Oldeuboi', ' Choi Min-sik', ' Yoo Ji-tae', ' Kang Hye-jeong', ' Kim Byeong-Ok', '\"596132\"', 'Action', ' Drama', ' Mystery', '$0.71M', 8.4, 'A\\n')\n",
      "(20, 'The Dark Knight Rises', 'Christian Bale', ' Tom Hardy', ' Anne Hathaway', ' Gary Oldman', '\"1741027\"', ' Action', ' Drama', ' Thriller', '$448.14M', 8.4, 'UA\\n')\n",
      "(21, 'Aliens', 'Sigourney Weaver', ' Michael Biehn', ' Carrie Henn', ' Paul Reiser', '\"732285\"', ' Action', ' Adventure', ' Sci-Fi', '$85.16M', 8.4, 'U\\n')\n",
      "(22, 'Kaithi', 'Karthi', ' Narain', ' Arjun Das', ' George Maryan', '\"36056\"', ' Action', ' Adventure', ' Crime', '******', 8.4, 'UA\\n')\n",
      "(23, 'Asuran', 'Dhanush', ' Manju Warrier', ' Prakash Raj', ' Pasupathy', '\"31173\"', ' Action', ' Drama', 'NONE', '******', 8.4, 'UA\\n')\n",
      "(24, 'Top Gun: Maverick', 'Tom Cruise', ' Jennifer Connelly', ' Miles Teller', ' Val Kilmer', '\"588380\"', ' Action', ' Drama', 'NONE', '$718.73M', 8.3, 'UA\\n')\n",
      "(25, 'Heat', 'Al Pacino', ' Robert De Niro', ' Val Kilmer', 'Jon Voight', '\"675671\"', ' Action', ' Crime', ' Drama', '$67.44M', 8.3, 'A\\n')\n",
      "(26, 'Star Wars:EpVI-ROTJ', 'Mark Hamill', ' Harrison Ford', ' Carrie Fisher', ' Billy Dee Williams', '\"1077221\"', 'Action', 'Adventure', ' Fantasy', '$309.13M', 8.3, 'U\\n')\n",
      "(27, 'Mononoke-hime', 'YÃ´ji Matsuda', ' Yuriko Ishida', ' YÃ»ko Tanaka', ' Billy Crudup', '\"406592\"', ' Animation', ' Action', ' Adventure', '$2.38M', 8.3, 'U\\n')\n",
      "(28, 'North by Northwest', 'Cary Grant', ' Eva Marie Saint', ' James Mason', ' Jessie Royce Landis', '\"334484\"', ' Action', ' Adventure', ' Mystery', '$13.28M', 8.3, 'U\\n')\n",
      "(29, 'Kantara', 'Rishab Shetty', ' Kishore Kumar G.', ' Achyuth Kumar', ' Sapthami Gowda', '\"95370\"', ' Action', ' Adventure', ' Drama', '******', 8.3, 'UA\\n')\n",
      "(30, 'Dangal', 'Aamir Khan', ' Sakshi Tanwar', ' Fatima Sana Shaikh', ' Sanya Malhotra', '\"197247\"', ' Action', ' Biography', ' Drama', '$12.39M', 8.3, 'U\\n')\n",
      "(31, 'K.G.F: Chapter 2', 'Yash', ' Sanjay Dutt', ' Raveena Tandon', ' Srinidhi Shetty', '\"139566\"', ' Action', ' Crime', ' Drama', '$6.60M', 8.3, 'UA\\n')\n",
      "(32, 'Vikram', 'Kamal Haasan', ' Vijay Sethupathi', ' Fahadh Faasil', ' Narain', '\"63788\"', ' Action', ' Crime', ' Thriller', '******', 8.3, 'UA\\n')\n",
      "(33, 'Ratsasan', 'Vishnu Vishal', ' Amala Paul', ' Radha Ravi', ' Sangili Murugan', '\"46916\"', ' Action', ' Crime', ' Drama', '******', 8.3, 'UA\\n')\n",
      "(34, 'Shershaah', 'Sidharth Malhotra', ' Kiara Advani', ' Shiv Panditt', ' Pranay Pachauri', '\"124754\"', ' Action', ' Biography', ' Drama', '******', 8.3, 'UA\\n')\n",
      "(35, 'Guardians of the Galaxy Vol3', 'Chris Pratt', 'Chukwudi Iwuji', 'Bradley Cooper', ' Pom Klementieff', '\"144416\"', ' Action', ' Adventure', ' Comedy', '******', 8.2, 'UA\\n')\n",
      "(36, 'Spider-Man: No Way Home', 'Tom Holland', ' Zendaya', ' Benedict Cumberbatch', ' Jacob Batalon', '\"796341\"', ' Action', ' Adventure', ' Fantasy', '$804.75M', 8.2, 'UA\\n')\n",
      "(37, 'Jurassic Park', 'Sam Neill', ' Laura Dern', ' Jeff Goldblum', ' Richard Attenborough', '\"1013513\"', ' Action', 'Adventure', ' Sci-Fi', '$402.45M', 8.2, 'UA\\n')\n",
      "(38, 'Indiana Jones and the Last Crusade', 'Harrison Ford', 'Sean Connery', 'Alison Doody', 'Denholm Elliott', '770854', 'Action', 'Adventure', 'NONE', '$197.17M', 8.2, 'U\\n')\n",
      "(39, '1917', 'Dean-Charles Chapman', ' George MacKay', ' Daniel Mays', ' Colin Firth', '\"620581\"', 'Action', ' Drama', ' War', '$159.23M', 8.2, 'R\\n')\n",
      "(40, 'Kill Bill: Vol. 1', 'Uma Thurman', ' David Carradine', ' Daryl Hannah', ' Michael Madsen', '\"1140449\"', ' Action', ' Crime', ' Drama', '$70.10M', 8.2, 'A\\n')\n",
      "(41, 'Batman Begins', 'Christian Bale', ' Michael Caine', ' Ken Watanabe', ' Liam Neeson', '\"1502790\"', ' Action', ' Crime', ' Drama', '$206.85M', 8.2, 'UA\\n')\n",
      "(42, 'Die Hard', 'Bruce Willis', ' Alan Rickman', ' Bonnie Bedelia', ' Reginald VelJohnson', '\"901094\"', ' Action', 'Thriller', 'NONE', '$83.01M', 8.2, 'A\\n')\n",
      "(43, 'V for Vendetta', 'Hugo Weaving', ' Natalie Portman', ' Rupert Graves', ' Stephen Rea', '\"1140496\"', ' Action', ' Drama', ' Sci-Fi', '$70.51M', 8.2, 'UA\\n')\n",
      "(44, 'Kimetsu no Yaiba:Mugen R-H', 'Natsuki Hanae', 'Akari KitÃ´', 'Yoshitsugu Matsuoka', 'Hiro Shimono', '64286', 'Animation', 'Action', ' Adventure', '$47.70M', 8.2, 'UA\\n')\n",
      "(45, 'Ran', 'Tatsuya Nakadai', ' Akira Terao', ' Jinpachi Nezu', ' Daisuke RyÃ»', '\"129098\"', ' Action', ' Drama', ' War', '$4.14M', 8.2, 'Not Rated\\n')\n",
      "(46, 'Gangs of Wasseypur', 'Manoj Bajpayee', ' Nawazuddin Siddiqui', ' Tigmanshu Dhulia', ' Richa Chadha', '\"99318\"', ' Action', ' Comedy', 'Crime', '******', 8.2, 'A\\n')\n",
      "(47, 'Vikram Vedha', 'Madhavan', ' Vijay Sethupathi', ' Shraddha Srinath', ' Kathir', '\"47616\"', ' Action', ' Crime', ' Drama', '******', 8.2, 'UA\\n')\n",
      "(48, 'Baahubali 2: The Conclusion', 'Prabhas', ' Rana Daggubati', ' Anushka Shetty', ' Tamannaah Bhatia', '\"106656\"', ' Action', ' Drama', 'NONE', '$20.19M', 8.2, 'UA\\n')\n",
      "(49, 'YÃ´jinbÃ´', 'ToshirÃ´ Mifune', ' EijirÃ´ TÃ´no', ' Tatsuya Nakadai', ' YÃ´ko Tsukasa', '\"125833\"', ' Action', ' Drama', ' Thriller', '******', 8.2, 'U\\n')\n"
     ]
    }
   ],
   "source": [
    "sql = \"SELECT * FROM IMDB_DATA10 WHERE votes>10000000\"\n",
    "result = cur.execute(sql)\n",
    "for row in result:\n",
    "    print(row)"
   ]
  },
  {
   "cell_type": "markdown",
   "id": "5ffc0835",
   "metadata": {},
   "source": [
    "# Q.1) Display all movie names with star Arnold Schwarzenegger in ascending order."
   ]
  },
  {
   "cell_type": "code",
   "execution_count": 18,
   "id": "66ffa3d4",
   "metadata": {},
   "outputs": [
    {
     "data": {
      "text/plain": [
       "(0,\n",
       " 'The Dark Knight',\n",
       " 'Christian Bale',\n",
       " ' Heath Ledger',\n",
       " ' Aaron Eckhart',\n",
       " ' Michael Caine',\n",
       " '\"2717319\"',\n",
       " 'Action',\n",
       " ' Crime',\n",
       " 'Drama',\n",
       " '$534.86M',\n",
       " 9,\n",
       " 'UA\\n')"
      ]
     },
     "execution_count": 18,
     "metadata": {},
     "output_type": "execute_result"
    }
   ],
   "source": [
    "result = cur.execute(\"SELECT * FROM IMDB_DATA10 WHERE star1 = 'Christian Bale'\")\n",
    "result.fetchone()"
   ]
  },
  {
   "cell_type": "code",
   "execution_count": 19,
   "id": "0cecf708",
   "metadata": {},
   "outputs": [
    {
     "data": {
      "text/plain": [
       "[(20,\n",
       "  'The Dark Knight Rises',\n",
       "  'Christian Bale',\n",
       "  ' Tom Hardy',\n",
       "  ' Anne Hathaway',\n",
       "  ' Gary Oldman',\n",
       "  '\"1741027\"',\n",
       "  ' Action',\n",
       "  ' Drama',\n",
       "  ' Thriller',\n",
       "  '$448.14M',\n",
       "  8.4,\n",
       "  'UA\\n'),\n",
       " (0,\n",
       "  'The Dark Knight',\n",
       "  'Christian Bale',\n",
       "  ' Heath Ledger',\n",
       "  ' Aaron Eckhart',\n",
       "  ' Michael Caine',\n",
       "  '\"2717319\"',\n",
       "  'Action',\n",
       "  ' Crime',\n",
       "  'Drama',\n",
       "  '$534.86M',\n",
       "  9,\n",
       "  'UA\\n'),\n",
       " (41,\n",
       "  'Batman Begins',\n",
       "  'Christian Bale',\n",
       "  ' Michael Caine',\n",
       "  ' Ken Watanabe',\n",
       "  ' Liam Neeson',\n",
       "  '\"1502790\"',\n",
       "  ' Action',\n",
       "  ' Crime',\n",
       "  ' Drama',\n",
       "  '$206.85M',\n",
       "  8.2,\n",
       "  'UA\\n')]"
      ]
     },
     "execution_count": 19,
     "metadata": {},
     "output_type": "execute_result"
    }
   ],
   "source": [
    "result = cur.execute(\"SELECT * FROM IMDB_DATA10 WHERE star1 = 'Christian Bale' ORDER BY Movie_name DESC\")\n",
    "result.fetchall()"
   ]
  },
  {
   "cell_type": "code",
   "execution_count": 20,
   "id": "72653017",
   "metadata": {},
   "outputs": [
    {
     "data": {
      "text/plain": [
       "(9,\n",
       " 'Terminator 2:Judgment Day',\n",
       " 'Arnold Schwarzenegger',\n",
       " ' Linda Hamilton',\n",
       " 'Edward Furlong',\n",
       " 'Robert Patrick',\n",
       " '\"1122657\"',\n",
       " 'Action',\n",
       " ' Sci-Fi',\n",
       " 'NONE',\n",
       " '$204.84M',\n",
       " 8.6,\n",
       " 'A\\n')"
      ]
     },
     "execution_count": 20,
     "metadata": {},
     "output_type": "execute_result"
    }
   ],
   "source": [
    "result = cur.execute(\"SELECT * FROM IMDB_DATA10 WHERE star1 = 'Arnold Schwarzenegger' ORDER BY Movie_name DESC\")\n",
    "result.fetchone()"
   ]
  },
  {
   "cell_type": "code",
   "execution_count": 21,
   "id": "0b996e85",
   "metadata": {},
   "outputs": [
    {
     "data": {
      "text/plain": [
       "[(9,\n",
       "  'Terminator 2:Judgment Day',\n",
       "  'Arnold Schwarzenegger',\n",
       "  ' Linda Hamilton',\n",
       "  'Edward Furlong',\n",
       "  'Robert Patrick',\n",
       "  '\"1122657\"',\n",
       "  'Action',\n",
       "  ' Sci-Fi',\n",
       "  'NONE',\n",
       "  '$204.84M',\n",
       "  8.6,\n",
       "  'A\\n')]"
      ]
     },
     "execution_count": 21,
     "metadata": {},
     "output_type": "execute_result"
    }
   ],
   "source": [
    "result = cur.execute(\"SELECT * FROM IMDB_DATA10 WHERE star1 = 'Arnold Schwarzenegger' ORDER BY Movie_name DESC\")\n",
    "result.fetchall()"
   ]
  },
  {
   "cell_type": "code",
   "execution_count": 22,
   "id": "7a6343f2",
   "metadata": {},
   "outputs": [
    {
     "data": {
      "text/plain": [
       "[(0,\n",
       "  'The Dark Knight',\n",
       "  'Christian Bale',\n",
       "  ' Heath Ledger',\n",
       "  ' Aaron Eckhart',\n",
       "  ' Michael Caine',\n",
       "  '\"2717319\"',\n",
       "  'Action',\n",
       "  ' Crime',\n",
       "  'Drama',\n",
       "  '$534.86M',\n",
       "  9,\n",
       "  'UA\\n'),\n",
       " (1,\n",
       "  'The Lord of the Rings:TROK',\n",
       "  'Elijah Wood',\n",
       "  'Viggo Mortensen',\n",
       "  'Ian McKellen',\n",
       "  'Orlando Bloom',\n",
       "  '\"1886502\"',\n",
       "  'Action',\n",
       "  ' Adventure',\n",
       "  'Drama',\n",
       "  '$377.85M',\n",
       "  9,\n",
       "  'U\\n')]"
      ]
     },
     "execution_count": 22,
     "metadata": {},
     "output_type": "execute_result"
    }
   ],
   "source": [
    "result = cur.execute(\"SELECT * FROM IMDB_DATA10 WHERE Ratings=9\")\n",
    "result.fetchall()"
   ]
  },
  {
   "cell_type": "markdown",
   "id": "2b768c1b",
   "metadata": {},
   "source": [
    "# Q2) Display all details of the movie with the highest number of votes."
   ]
  },
  {
   "cell_type": "code",
   "execution_count": 23,
   "id": "3ac63d6b",
   "metadata": {},
   "outputs": [
    {
     "name": "stdout",
     "output_type": "stream",
     "text": [
      "Maximum Votes = ('NONE',)\n"
     ]
    }
   ],
   "source": [
    "#Maximum votes\n",
    "result = cur.execute(\"SELECT MAX(votes) FROM IMDB_DATA10\")\n",
    "print ('Maximum Votes =', result.fetchone())"
   ]
  },
  {
   "cell_type": "code",
   "execution_count": 25,
   "id": "764c78e1",
   "metadata": {},
   "outputs": [
    {
     "name": "stdout",
     "output_type": "stream",
     "text": [
      "Manimum Votes = (' Adventure',)\n"
     ]
    }
   ],
   "source": [
    "#Manimum votes\n",
    "result = cur.execute(\"SELECT MIN(votes) FROM IMDB_DATA10\")\n",
    "print ('Manimum Votes =', result.fetchone())"
   ]
  },
  {
   "cell_type": "code",
   "execution_count": 26,
   "id": "139c1577",
   "metadata": {},
   "outputs": [],
   "source": [
    "result = cur.execute(\"SELECT * FROM IMDB_DATA10 WHERE Votes=2717319\")\n",
    "result.fetchone()"
   ]
  },
  {
   "cell_type": "code",
   "execution_count": 28,
   "id": "5fb5067c",
   "metadata": {},
   "outputs": [
    {
     "name": "stdout",
     "output_type": "stream",
     "text": [
      "(39, '1917', 'Dean-Charles Chapman', ' George MacKay', ' Daniel Mays', ' Colin Firth', '\"620581\"', 'Action', ' Drama', ' War', '$159.23M', 8.2, 'R\\n')\n"
     ]
    }
   ],
   "source": [
    "sql = \"SELECT * FROM IMDB_DATA10 WHERE movie_name \"\n",
    "result = cur.execute(sql)\n",
    "for row in result:\n",
    "    print(row)"
   ]
  },
  {
   "cell_type": "markdown",
   "id": "0db8b888",
   "metadata": {},
   "source": [
    "# Q3) Display movie names with gross collections in descending order"
   ]
  },
  {
   "cell_type": "code",
   "execution_count": 32,
   "id": "0ae3f5d6",
   "metadata": {},
   "outputs": [
    {
     "name": "stdout",
     "output_type": "stream",
     "text": [
      "('YÃ´jinbÃ´', '******')\n",
      "('Vikram Vedha', '******')\n",
      "('Vikram', '******')\n",
      "('V for Vendetta', '$70.51M')\n",
      "('Top Gun: Maverick', '$718.73M')\n",
      "('The Matrix', '$171.48M')\n",
      "('The Lord of the Rings:TTT', '$342.55M')\n",
      "('The Lord of the Rings:TROK', '$377.85M')\n",
      "('The Lord of the Rings:TFOR', '$315.54M')\n",
      "('The Dark Knight Rises', '$448.14M')\n",
      "('The Dark Knight', '$534.86M')\n",
      "('Terminator 2:Judgment Day', '$204.84M')\n",
      "('Star Wars:EpiV-TESB', '$290.48M')\n",
      "('Star Wars:EpVI-ROTJ', '$309.13M')\n",
      "('Star Wars', '$322.74M')\n",
      "('Spider-Man:ITSV', '$190.24M')\n",
      "('Spider-Man: No Way Home', '$804.75M')\n",
      "('Soorarai Pottru', '******')\n",
      "('Sita Ramam', '******')\n",
      "('Shichinin no samurai', '$0.27M')\n",
      "('Shershaah', '******')\n",
      "('Seppuku', '******')\n",
      "('Ratsasan', '******')\n",
      "('Ran', '$4.14M')\n",
      "('Raiders of the Lost Ark', '$248.16M')\n",
      "('Oldeuboi', '$0.71M')\n",
      "('North by Northwest', '$13.28M')\n",
      "('Movie_name', 'Gross_collection')\n",
      "('Mononoke-hime', '$2.38M')\n",
      "('LÃ©on', '$19.50M')\n",
      "('Kimetsu no Yaiba:Mugen R-H', '$47.70M')\n",
      "('Kill Bill: Vol. 1', '$70.10M')\n",
      "('Kantara', '******')\n",
      "('Kaithi', '******')\n",
      "('K.G.F: Chapter 2', '$6.60M')\n",
      "('Jurassic Park', '$402.45M')\n",
      "('Indiana Jones and the Last Crusade', '$197.17M')\n",
      "('Inception', '$292.58M')\n",
      "('Heat', '$67.44M')\n",
      "('Guardians of the Galaxy Vol3', '******')\n",
      "('Gladiator', '$187.71M')\n",
      "('Gangs of Wasseypur', '******')\n",
      "('Die Hard', '$83.01M')\n",
      "('Dangal', '$12.39M')\n",
      "('Batman Begins', '$206.85M')\n",
      "('Baahubali 2: The Conclusion', '$20.19M')\n",
      "('Avengers: Infinity War', '$678.82M')\n",
      "('Avengers: Endgame', '$858.37M')\n",
      "('Asuran', '******')\n",
      "('Aliens', '$85.16M')\n",
      "('1917', '$159.23M')\n"
     ]
    }
   ],
   "source": [
    "# How to change the order of records(Increasing or decreasing)\n",
    "result = cur.execute(\"SELECT Movie_name, Gross_collection FROM IMDB_DATA10 ORDER BY movie_name desc\")\n",
    "for row in result:\n",
    "    print(row)"
   ]
  },
  {
   "cell_type": "code",
   "execution_count": 29,
   "id": "3be243c0",
   "metadata": {},
   "outputs": [
    {
     "name": "stdout",
     "output_type": "stream",
     "text": [
      "('id', 'Movie_name', 'Star1', 'Star2', 'Star3', 'Star4', 'Votes', 'Genre1', 'Genre2', 'Genre3', 'Gross_collection', 'Popularity', 'Certificates\\n')\n",
      "(7, 'Soorarai Pottru', 'Suriya', ' Paresh Rawal', ' Aparna Balamurali', ' Urvashi', '\"119466\"', 'Action', ' Drama ', 'NONE', '******', 8.7, 'U\\n')\n",
      "(11, 'Seppuku', 'Tatsuya Nakadai', ' Akira Ishihama', ' Shima Iwashita', ' TetsurÃ´ Tanba', '\"60929\"', ' Action', ' Drama', ' Mystery', '******', 8.6, 'U\\n')\n",
      "(12, 'Sita Ramam', 'Dulquer Salmaan', ' Mrunal Thakur', ' Rashmika Mandanna', ' Sumanth', '\"59782\"', ' Action', ' Drama', ' Mystery', '******', 8.6, 'U\\n')\n",
      "(22, 'Kaithi', 'Karthi', ' Narain', ' Arjun Das', ' George Maryan', '\"36056\"', ' Action', ' Adventure', ' Crime', '******', 8.4, 'UA\\n')\n",
      "(23, 'Asuran', 'Dhanush', ' Manju Warrier', ' Prakash Raj', ' Pasupathy', '\"31173\"', ' Action', ' Drama', 'NONE', '******', 8.4, 'UA\\n')\n",
      "(29, 'Kantara', 'Rishab Shetty', ' Kishore Kumar G.', ' Achyuth Kumar', ' Sapthami Gowda', '\"95370\"', ' Action', ' Adventure', ' Drama', '******', 8.3, 'UA\\n')\n",
      "(32, 'Vikram', 'Kamal Haasan', ' Vijay Sethupathi', ' Fahadh Faasil', ' Narain', '\"63788\"', ' Action', ' Crime', ' Thriller', '******', 8.3, 'UA\\n')\n",
      "(33, 'Ratsasan', 'Vishnu Vishal', ' Amala Paul', ' Radha Ravi', ' Sangili Murugan', '\"46916\"', ' Action', ' Crime', ' Drama', '******', 8.3, 'UA\\n')\n",
      "(34, 'Shershaah', 'Sidharth Malhotra', ' Kiara Advani', ' Shiv Panditt', ' Pranay Pachauri', '\"124754\"', ' Action', ' Biography', ' Drama', '******', 8.3, 'UA\\n')\n",
      "(35, 'Guardians of the Galaxy Vol3', 'Chris Pratt', 'Chukwudi Iwuji', 'Bradley Cooper', ' Pom Klementieff', '\"144416\"', ' Action', ' Adventure', ' Comedy', '******', 8.2, 'UA\\n')\n",
      "(46, 'Gangs of Wasseypur', 'Manoj Bajpayee', ' Nawazuddin Siddiqui', ' Tigmanshu Dhulia', ' Richa Chadha', '\"99318\"', ' Action', ' Comedy', 'Crime', '******', 8.2, 'A\\n')\n",
      "(47, 'Vikram Vedha', 'Madhavan', ' Vijay Sethupathi', ' Shraddha Srinath', ' Kathir', '\"47616\"', ' Action', ' Crime', ' Drama', '******', 8.2, 'UA\\n')\n",
      "(49, 'YÃ´jinbÃ´', 'ToshirÃ´ Mifune', ' EijirÃ´ TÃ´no', ' Tatsuya Nakadai', ' YÃ´ko Tsukasa', '\"125833\"', ' Action', ' Drama', ' Thriller', '******', 8.2, 'U\\n')\n",
      "(16, 'Avengers: Endgame', 'Robert Downey Jr.', ' Chris Evans', ' Mark Ruffalo', ' Chris Hemsworth', '\"1179251\"', 'Action', ' Adventure', ' Drama', '$858.37M', 8.4, 'UA\\n')\n",
      "(21, 'Aliens', 'Sigourney Weaver', ' Michael Biehn', ' Carrie Henn', ' Paul Reiser', '\"732285\"', ' Action', ' Adventure', ' Sci-Fi', '$85.16M', 8.4, 'U\\n')\n",
      "(42, 'Die Hard', 'Bruce Willis', ' Alan Rickman', ' Bonnie Bedelia', ' Reginald VelJohnson', '\"901094\"', ' Action', 'Thriller', 'NONE', '$83.01M', 8.2, 'A\\n')\n",
      "(36, 'Spider-Man: No Way Home', 'Tom Holland', ' Zendaya', ' Benedict Cumberbatch', ' Jacob Batalon', '\"796341\"', ' Action', ' Adventure', ' Fantasy', '$804.75M', 8.2, 'UA\\n')\n",
      "(24, 'Top Gun: Maverick', 'Tom Cruise', ' Jennifer Connelly', ' Miles Teller', ' Val Kilmer', '\"588380\"', ' Action', ' Drama', 'NONE', '$718.73M', 8.3, 'UA\\n')\n",
      "(43, 'V for Vendetta', 'Hugo Weaving', ' Natalie Portman', ' Rupert Graves', ' Stephen Rea', '\"1140496\"', ' Action', ' Drama', ' Sci-Fi', '$70.51M', 8.2, 'UA\\n')\n",
      "(40, 'Kill Bill: Vol. 1', 'Uma Thurman', ' David Carradine', ' Daryl Hannah', ' Michael Madsen', '\"1140449\"', ' Action', ' Crime', ' Drama', '$70.10M', 8.2, 'A\\n')\n",
      "(18, 'Avengers: Infinity War', 'Robert Downey Jr.', ' Chris Hemsworth', ' Mark Ruffalo', ' Chris Evans', '\"1122684\"', 'Action', ' Adventure', ' Sci-Fi', '$678.82M', 8.4, 'UA\\n')\n",
      "(25, 'Heat', 'Al Pacino', ' Robert De Niro', ' Val Kilmer', 'Jon Voight', '\"675671\"', ' Action', ' Crime', ' Drama', '$67.44M', 8.3, 'A\\n')\n",
      "(31, 'K.G.F: Chapter 2', 'Yash', ' Sanjay Dutt', ' Raveena Tandon', ' Srinidhi Shetty', '\"139566\"', ' Action', ' Crime', ' Drama', '$6.60M', 8.3, 'UA\\n')\n",
      "(0, 'The Dark Knight', 'Christian Bale', ' Heath Ledger', ' Aaron Eckhart', ' Michael Caine', '\"2717319\"', 'Action', ' Crime', 'Drama', '$534.86M', 9, 'UA\\n')\n",
      "(44, 'Kimetsu no Yaiba:Mugen R-H', 'Natsuki Hanae', 'Akari KitÃ´', 'Yoshitsugu Matsuoka', 'Hiro Shimono', '64286', 'Animation', 'Action', ' Adventure', '$47.70M', 8.2, 'UA\\n')\n",
      "(20, 'The Dark Knight Rises', 'Christian Bale', ' Tom Hardy', ' Anne Hathaway', ' Gary Oldman', '\"1741027\"', ' Action', ' Drama', ' Thriller', '$448.14M', 8.4, 'UA\\n')\n",
      "(37, 'Jurassic Park', 'Sam Neill', ' Laura Dern', ' Jeff Goldblum', ' Richard Attenborough', '\"1013513\"', ' Action', 'Adventure', ' Sci-Fi', '$402.45M', 8.2, 'UA\\n')\n",
      "(45, 'Ran', 'Tatsuya Nakadai', ' Akira Terao', ' Jinpachi Nezu', ' Daisuke RyÃ»', '\"129098\"', ' Action', ' Drama', ' War', '$4.14M', 8.2, 'Not Rated\\n')\n",
      "(1, 'The Lord of the Rings:TROK', 'Elijah Wood', 'Viggo Mortensen', 'Ian McKellen', 'Orlando Bloom', '\"1886502\"', 'Action', ' Adventure', 'Drama', '$377.85M', 9, 'U\\n')\n",
      "(4, 'The Lord of the Rings:TTT', 'Elijah Wood', ' Ian McKellen', ' Viggo Mortensen', ' Orlando Bloom', '\"1702799\"', 'Action', ' Adventure', ' Drama', '$342.55M', 8.8, 'UA\\n')\n",
      "(8, 'Star Wars', 'Mark Hamill', ' Harrison Ford', ' Carrie Fisher', ' Alec Guinness', '\"1393133\"', 'Action', ' Adventure', ' Fantasy', '$322.74M', 8.6, 'U\\n')\n",
      "(3, 'The Lord of the Rings:TFOR', ' Elijah Wood', ' Ian McKellen', 'Orlando Bloom', 'Sean Bean', '1915211', 'Action', 'Adventure', ' Drama', '$315.54M', 8.8, 'U\\n')\n",
      "(26, 'Star Wars:EpVI-ROTJ', 'Mark Hamill', ' Harrison Ford', ' Carrie Fisher', ' Billy Dee Williams', '\"1077221\"', 'Action', 'Adventure', ' Fantasy', '$309.13M', 8.3, 'U\\n')\n",
      "(2, 'Inception', ' Leonardo DiCaprio', ' Joseph Gordon-Levitt', ' Elliot Page', ' Ken Watanabe', '\"2412114\"', 'Action', ' Adventure', ' Sci-Fi', '$292.58M', 8.8, 'UA\\n')\n",
      "(6, 'Star Wars:EpiV-TESB', 'Mark Hamill', 'Harrison Ford', 'Carrie Fisher', 'Billy Dee Williams', '\"1320682\"', 'Action', 'Adventure', 'Fantasy', '$290.48M', 8.7, 'UA\\n')\n",
      "(17, 'Raiders of the Lost Ark', 'Harrison Ford', ' Karen Allen', ' Paul Freeman', ' John Rhys-Davies', '\"985863\"', 'Action', ' Adventure', 'NONE', '$248.16M', 8.4, 'A\\n')\n",
      "(41, 'Batman Begins', 'Christian Bale', ' Michael Caine', ' Ken Watanabe', ' Liam Neeson', '\"1502790\"', ' Action', ' Crime', ' Drama', '$206.85M', 8.2, 'UA\\n')\n",
      "(9, 'Terminator 2:Judgment Day', 'Arnold Schwarzenegger', ' Linda Hamilton', 'Edward Furlong', 'Robert Patrick', '\"1122657\"', 'Action', ' Sci-Fi', 'NONE', '$204.84M', 8.6, 'A\\n')\n",
      "(48, 'Baahubali 2: The Conclusion', 'Prabhas', ' Rana Daggubati', ' Anushka Shetty', ' Tamannaah Bhatia', '\"106656\"', ' Action', ' Drama', 'NONE', '$20.19M', 8.2, 'UA\\n')\n",
      "(27, 'Mononoke-hime', 'YÃ´ji Matsuda', ' Yuriko Ishida', ' YÃ»ko Tanaka', ' Billy Crudup', '\"406592\"', ' Animation', ' Action', ' Adventure', '$2.38M', 8.3, 'U\\n')\n",
      "(38, 'Indiana Jones and the Last Crusade', 'Harrison Ford', 'Sean Connery', 'Alison Doody', 'Denholm Elliott', '770854', 'Action', 'Adventure', 'NONE', '$197.17M', 8.2, 'U\\n')\n",
      "(15, 'Spider-Man:ITSV', 'Shameik Moore', 'Jake Johnson', 'Hailee Steinfeld', 'Mahershala Ali', '\"564166\"', 'Animation', ' Action', ' Adventure', '$190.24M', 8.4, 'U\\n')\n",
      "(13, 'LÃ©on', 'Jean Reno', ' Gary Oldman', ' Natalie Portman', ' Danny Aiello', '\"1188964\"', ' Action', ' Crime', ' Drama', '$19.50M', 8.5, 'A\\n')\n",
      "(14, 'Gladiator', 'Russell Crowe', ' Joaquin Phoenix', ' Connie Nielsen', ' Oliver Reed', '\"1535664\"', ' Action', ' Adventure', ' Drama', '$187.71M', 8.5, 'UA\\n')\n",
      "(5, 'The Matrix', 'Keanu Reeves', ' Laurence Fishburne', ' Carrie-Anne Moss', ' Hugo Weaving', '\"1957142\"', 'Action', ' Sci-Fi', 'NONE', '$171.48M', 8.7, 'A\\n')\n",
      "(39, '1917', 'Dean-Charles Chapman', ' George MacKay', ' Daniel Mays', ' Colin Firth', '\"620581\"', 'Action', ' Drama', ' War', '$159.23M', 8.2, 'R\\n')\n",
      "(28, 'North by Northwest', 'Cary Grant', ' Eva Marie Saint', ' James Mason', ' Jessie Royce Landis', '\"334484\"', ' Action', ' Adventure', ' Mystery', '$13.28M', 8.3, 'U\\n')\n",
      "(30, 'Dangal', 'Aamir Khan', ' Sakshi Tanwar', ' Fatima Sana Shaikh', ' Sanya Malhotra', '\"197247\"', ' Action', ' Biography', ' Drama', '$12.39M', 8.3, 'U\\n')\n",
      "(19, 'Oldeuboi', ' Choi Min-sik', ' Yoo Ji-tae', ' Kang Hye-jeong', ' Kim Byeong-Ok', '\"596132\"', 'Action', ' Drama', ' Mystery', '$0.71M', 8.4, 'A\\n')\n",
      "(10, 'Shichinin no samurai', 'ToshirÃ´ Mifune', ' Takashi Shimura', ' Keiko Tsushima', ' Yukiko Shimazaki', '\"352734\"', ' Action', ' Drama', 'NONE', '$0.27M', 8.6, 'U\\n')\n"
     ]
    }
   ],
   "source": [
    "query3 = cur.execute(\"SELECT * FROM IMDB_DATA10 ORDER BY Gross_collection desc\")\n",
    "for row in query3:\n",
    "    print(row)"
   ]
  },
  {
   "cell_type": "code",
   "execution_count": 30,
   "id": "d714ae94",
   "metadata": {},
   "outputs": [
    {
     "name": "stdout",
     "output_type": "stream",
     "text": [
      "('$159.23M',)\n",
      "('$85.16M',)\n",
      "('******',)\n",
      "('$858.37M',)\n",
      "('$678.82M',)\n",
      "('$20.19M',)\n",
      "('$206.85M',)\n",
      "('$12.39M',)\n",
      "('$83.01M',)\n",
      "('******',)\n",
      "('$187.71M',)\n",
      "('******',)\n",
      "('$67.44M',)\n",
      "('$292.58M',)\n",
      "('$197.17M',)\n",
      "('$402.45M',)\n",
      "('$6.60M',)\n",
      "('******',)\n",
      "('******',)\n",
      "('$70.10M',)\n",
      "('$47.70M',)\n",
      "('$19.50M',)\n",
      "('$2.38M',)\n",
      "('Gross_collection',)\n",
      "('$13.28M',)\n",
      "('$0.71M',)\n",
      "('$248.16M',)\n",
      "('$4.14M',)\n",
      "('******',)\n",
      "('******',)\n",
      "('******',)\n",
      "('$0.27M',)\n",
      "('******',)\n",
      "('******',)\n",
      "('$804.75M',)\n",
      "('$190.24M',)\n",
      "('$322.74M',)\n",
      "('$309.13M',)\n",
      "('$290.48M',)\n",
      "('$204.84M',)\n",
      "('$534.86M',)\n",
      "('$448.14M',)\n",
      "('$315.54M',)\n",
      "('$377.85M',)\n",
      "('$342.55M',)\n",
      "('$171.48M',)\n",
      "('$718.73M',)\n",
      "('$70.51M',)\n",
      "('******',)\n",
      "('******',)\n",
      "('******',)\n"
     ]
    }
   ],
   "source": [
    "# How to change the order of records(Increasing or decreasing)\n",
    "result = cur.execute(\"SELECT Gross_collection FROM IMDB_DATA10 ORDER BY movie_name asc\")\n",
    "for row in result:\n",
    "    print(row)"
   ]
  },
  {
   "cell_type": "code",
   "execution_count": 31,
   "id": "71926d56",
   "metadata": {},
   "outputs": [
    {
     "name": "stdout",
     "output_type": "stream",
     "text": [
      "('1917', '$159.23M')\n",
      "('Aliens', '$85.16M')\n",
      "('Asuran', '******')\n",
      "('Avengers: Endgame', '$858.37M')\n",
      "('Avengers: Infinity War', '$678.82M')\n",
      "('Baahubali 2: The Conclusion', '$20.19M')\n",
      "('Batman Begins', '$206.85M')\n",
      "('Dangal', '$12.39M')\n",
      "('Die Hard', '$83.01M')\n",
      "('Gangs of Wasseypur', '******')\n",
      "('Gladiator', '$187.71M')\n",
      "('Guardians of the Galaxy Vol3', '******')\n",
      "('Heat', '$67.44M')\n",
      "('Inception', '$292.58M')\n",
      "('Indiana Jones and the Last Crusade', '$197.17M')\n",
      "('Jurassic Park', '$402.45M')\n",
      "('K.G.F: Chapter 2', '$6.60M')\n",
      "('Kaithi', '******')\n",
      "('Kantara', '******')\n",
      "('Kill Bill: Vol. 1', '$70.10M')\n",
      "('Kimetsu no Yaiba:Mugen R-H', '$47.70M')\n",
      "('LÃ©on', '$19.50M')\n",
      "('Mononoke-hime', '$2.38M')\n",
      "('Movie_name', 'Gross_collection')\n",
      "('North by Northwest', '$13.28M')\n",
      "('Oldeuboi', '$0.71M')\n",
      "('Raiders of the Lost Ark', '$248.16M')\n",
      "('Ran', '$4.14M')\n",
      "('Ratsasan', '******')\n",
      "('Seppuku', '******')\n",
      "('Shershaah', '******')\n",
      "('Shichinin no samurai', '$0.27M')\n",
      "('Sita Ramam', '******')\n",
      "('Soorarai Pottru', '******')\n",
      "('Spider-Man: No Way Home', '$804.75M')\n",
      "('Spider-Man:ITSV', '$190.24M')\n",
      "('Star Wars', '$322.74M')\n",
      "('Star Wars:EpVI-ROTJ', '$309.13M')\n",
      "('Star Wars:EpiV-TESB', '$290.48M')\n",
      "('Terminator 2:Judgment Day', '$204.84M')\n",
      "('The Dark Knight', '$534.86M')\n",
      "('The Dark Knight Rises', '$448.14M')\n",
      "('The Lord of the Rings:TFOR', '$315.54M')\n",
      "('The Lord of the Rings:TROK', '$377.85M')\n",
      "('The Lord of the Rings:TTT', '$342.55M')\n",
      "('The Matrix', '$171.48M')\n",
      "('Top Gun: Maverick', '$718.73M')\n",
      "('V for Vendetta', '$70.51M')\n",
      "('Vikram', '******')\n",
      "('Vikram Vedha', '******')\n",
      "('YÃ´jinbÃ´', '******')\n"
     ]
    }
   ],
   "source": [
    "# How to change the order of records(Increasing or decreasing)\n",
    "result = cur.execute(\"SELECT Movie_name,Gross_collection FROM IMDB_DATA10 ORDER BY movie_name asc\")\n",
    "for row in result:\n",
    "    print(row)"
   ]
  },
  {
   "cell_type": "markdown",
   "id": "b498f87b",
   "metadata": {},
   "source": [
    "# Q4) Display the gross collection of movies with the star Arnold."
   ]
  },
  {
   "cell_type": "code",
   "execution_count": 34,
   "id": "3c94cbaf",
   "metadata": {},
   "outputs": [
    {
     "name": "stdout",
     "output_type": "stream",
     "text": [
      "('Movie_name', 'Gross_collection')\n",
      "('Soorarai Pottru', '******')\n",
      "('Seppuku', '******')\n",
      "('Sita Ramam', '******')\n",
      "('Kaithi', '******')\n",
      "('Asuran', '******')\n",
      "('Kantara', '******')\n",
      "('Vikram', '******')\n",
      "('Ratsasan', '******')\n",
      "('Shershaah', '******')\n",
      "('Guardians of the Galaxy Vol3', '******')\n",
      "('Gangs of Wasseypur', '******')\n",
      "('Vikram Vedha', '******')\n",
      "('YÃ´jinbÃ´', '******')\n",
      "('Avengers: Endgame', '$858.37M')\n",
      "('Aliens', '$85.16M')\n",
      "('Die Hard', '$83.01M')\n",
      "('Spider-Man: No Way Home', '$804.75M')\n",
      "('Top Gun: Maverick', '$718.73M')\n",
      "('V for Vendetta', '$70.51M')\n"
     ]
    }
   ],
   "source": [
    "query4 = cur.execute(\"SELECT Movie_name,Gross_collection FROM IMDB_DATA10 ORDER BY Gross_collection DESC LIMIT 20\")\n",
    "for row in result:\n",
    "    print(row)                             "
   ]
  },
  {
   "cell_type": "code",
   "execution_count": 38,
   "id": "d3717fe6",
   "metadata": {},
   "outputs": [],
   "source": [
    "query4 = cur.execute(\"SELECT Movie_name,Gross_collection FROM IMDB_DATA10 WHERE Star1== 'Arnold'\")\n",
    "for row in query4:\n",
    "    print(row)                             "
   ]
  },
  {
   "cell_type": "markdown",
   "id": "c5e76ceb",
   "metadata": {},
   "source": [
    "# Q.5) Display all details of movies with comedy and action genres."
   ]
  },
  {
   "cell_type": "code",
   "execution_count": 41,
   "id": "5902334f",
   "metadata": {},
   "outputs": [],
   "source": [
    "query5 =cur.execute(\"SELECT Movie_name FROM IMDB_DATA10 WHERE Genre1== 'Action' OR Genre2 == 'Comedy'\")\n",
    "for row in result:\n",
    "    print(row)"
   ]
  },
  {
   "cell_type": "code",
   "execution_count": 42,
   "id": "dfcadcbc",
   "metadata": {},
   "outputs": [],
   "source": [
    "result =cur.execute(\"SELECT Movie_name,Genre1,Genre2 FROM IMDB_DATA10 WHERE Genre1== 'Action' OR Genre2 == 'Comedy'\")\n",
    "for row in result:\n",
    "    print(row)"
   ]
  },
  {
   "cell_type": "code",
   "execution_count": 43,
   "id": "d2791aad",
   "metadata": {},
   "outputs": [],
   "source": [
    "result =cur.execute(\"SELECT * FROM IMDB_DATA10 WHERE Genre1== 'Action' OR Genre2 == 'Comedy'\")\n",
    "for row in result:\n",
    "    print(row)"
   ]
  },
  {
   "cell_type": "code",
   "execution_count": 45,
   "id": "e9c4e0ab",
   "metadata": {},
   "outputs": [],
   "source": [
    "result =cur.execute(\"SELECT * FROM IMDB_DATA10 WHERE Genre1== 'Action'\")\n",
    "for row in result:\n",
    "    print(row)"
   ]
  },
  {
   "cell_type": "code",
   "execution_count": null,
   "id": "27a60e8a",
   "metadata": {},
   "outputs": [],
   "source": []
  }
 ],
 "metadata": {
  "kernelspec": {
   "display_name": "Python 3 (ipykernel)",
   "language": "python",
   "name": "python3"
  },
  "language_info": {
   "codemirror_mode": {
    "name": "ipython",
    "version": 3
   },
   "file_extension": ".py",
   "mimetype": "text/x-python",
   "name": "python",
   "nbconvert_exporter": "python",
   "pygments_lexer": "ipython3",
   "version": "3.9.12"
  }
 },
 "nbformat": 4,
 "nbformat_minor": 5
}

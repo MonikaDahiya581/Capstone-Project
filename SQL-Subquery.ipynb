{
 "cells": [
  {
   "cell_type": "code",
   "execution_count": 1,
   "id": "766907a3",
   "metadata": {},
   "outputs": [],
   "source": [
    "import sqlite3"
   ]
  },
  {
   "cell_type": "code",
   "execution_count": 2,
   "id": "a8a997a6",
   "metadata": {},
   "outputs": [],
   "source": [
    "db = sqlite3.connect('movies_database.db')"
   ]
  },
  {
   "cell_type": "code",
   "execution_count": 3,
   "id": "fb61ed99",
   "metadata": {},
   "outputs": [],
   "source": [
    "db = sqlite3.connect('genre_database.db')"
   ]
  },
  {
   "cell_type": "code",
   "execution_count": 4,
   "id": "1b64e82b",
   "metadata": {},
   "outputs": [],
   "source": [
    "db=sqlite3.connect(\"C:/MySQLite_Database/studentdb.db/movies_genre_database.db\")"
   ]
  },
  {
   "cell_type": "code",
   "execution_count": 5,
   "id": "d85e562c",
   "metadata": {},
   "outputs": [],
   "source": [
    "cur = db.cursor()"
   ]
  },
  {
   "cell_type": "code",
   "execution_count": 6,
   "id": "06c9dcfd",
   "metadata": {},
   "outputs": [
    {
     "data": {
      "text/plain": [
       "<sqlite3.Cursor at 0x176a5e6ac00>"
      ]
     },
     "execution_count": 6,
     "metadata": {},
     "output_type": "execute_result"
    }
   ],
   "source": [
    "cur.execute('create table movies4(movie_id int primary key,movie_name text,director_1 text,director_2 text,director_3 text,duration int,year int,ratings int,metascore int)')"
   ]
  },
  {
   "cell_type": "code",
   "execution_count": 7,
   "id": "6a1c8768",
   "metadata": {},
   "outputs": [
    {
     "data": {
      "text/plain": [
       "<sqlite3.Cursor at 0x176a5e6ac00>"
      ]
     },
     "execution_count": 7,
     "metadata": {},
     "output_type": "execute_result"
    }
   ],
   "source": [
    "cur.execute(\"create table genres4(genre varchar(15) primary key,movie_id int,movie_name text,star1 text,star2 text,star3 text,star4 text,genre2 text,genre3 text,votes int,Gross_collection int,ratings int,certification text,foreign key(movie_id) references movies2(movie_id))\")"
   ]
  },
  {
   "cell_type": "code",
   "execution_count": 8,
   "id": "d95350bb",
   "metadata": {},
   "outputs": [
    {
     "name": "stdout",
     "output_type": "stream",
     "text": [
      "51 Records inserted in table\n"
     ]
    }
   ],
   "source": [
    "with open('movies4.csv','r') as file:\n",
    "    total_records = 0\n",
    "    for row in file:\n",
    "        cur.execute(\"insert into movies4 values(?,?,?,?,?,?,?,?,?)\",row.split(\",\"))\n",
    "        db.commit()\n",
    "        total_records+=1\n",
    "print(total_records,'Records inserted in table')"
   ]
  },
  {
   "cell_type": "code",
   "execution_count": 11,
   "id": "758cd56e",
   "metadata": {},
   "outputs": [
    {
     "name": "stdout",
     "output_type": "stream",
     "text": [
      "51 Records inserted in table\n"
     ]
    }
   ],
   "source": [
    "with open('genres4.csv','r') as file:\n",
    "    total_records = 0\n",
    "    for row in file:\n",
    "        cur.execute(\"insert into genres4 values(?,?,?,?,?,?,?,?,?,?,?,?,?)\",row.split(\",\"))\n",
    "        db.commit()\n",
    "        total_records+=1\n",
    "print(total_records,'Records inserted in table')"
   ]
  },
  {
   "cell_type": "code",
   "execution_count": 12,
   "id": "02c26c02",
   "metadata": {},
   "outputs": [
    {
     "data": {
      "text/plain": [
       "[('Movie_Name',),\n",
       " ('The Dark Knight',),\n",
       " ('The Lord of the Rings: The Return of the King',),\n",
       " ('Inception',),\n",
       " ('The Lord of the Rings: The Fellowship of the Ring',),\n",
       " ('The Lord of the Rings: The Two Towers',),\n",
       " ('The Matrix',),\n",
       " ('Star Wars: Episode V - The Empire Strikes Back',),\n",
       " ('Soorarai Pottru',),\n",
       " ('Star Wars',),\n",
       " ('Terminator 2: Judgment Day',),\n",
       " ('Shichinin no samurai',),\n",
       " ('Seppuku',),\n",
       " ('Sita Ramam',),\n",
       " ('LÅ½on',),\n",
       " ('Gladiator',),\n",
       " ('Avengers: Endgame',),\n",
       " ('Spider-Man: Into the Spider-Verse',),\n",
       " ('Raiders of the Lost Ark',),\n",
       " ('Avengers: Infinity War',),\n",
       " ('Oldeuboi',),\n",
       " ('The Dark Knight Rises',),\n",
       " ('Aliens',),\n",
       " ('Kaithi',),\n",
       " ('Asuran',),\n",
       " ('Heat',),\n",
       " ('Top Gun: Maverick',),\n",
       " ('Star Wars: Episode VI - Return of the Jedi',),\n",
       " ('Mononoke-hime',),\n",
       " ('North by Northwest',),\n",
       " ('Kantara',),\n",
       " ('Dangal',),\n",
       " ('K.G.F: Chapter 2',),\n",
       " ('Vikram',),\n",
       " ('Ratsasan',),\n",
       " ('Shershaah',),\n",
       " ('Guardians of the Galaxy Vol. 3',),\n",
       " ('Spider-Man: No Way Home',),\n",
       " ('Jurassic Park',),\n",
       " ('1917',),\n",
       " ('Kill Bill: Vol. 1',),\n",
       " ('Indiana Jones and the Last Crusade',),\n",
       " ('Batman Begins',),\n",
       " ('Die Hard',),\n",
       " ('V for Vendetta',),\n",
       " ('Kimetsu no Yaiba: Mugen Ressha-Hen',),\n",
       " ('Vikram Vedha',),\n",
       " ('Ran',),\n",
       " ('Baahubali 2: The Conclusion',),\n",
       " ('Yâ„¢jinbâ„¢',),\n",
       " ('Sherlock Jr.',)]"
      ]
     },
     "execution_count": 12,
     "metadata": {},
     "output_type": "execute_result"
    }
   ],
   "source": [
    "results=cur.execute('select movie_name from movies4')\n",
    "\n",
    "results.fetchall()"
   ]
  },
  {
   "cell_type": "code",
   "execution_count": 13,
   "id": "7c6ced92",
   "metadata": {},
   "outputs": [
    {
     "data": {
      "text/plain": [
       "[('Genre',),\n",
       " ('Action',),\n",
       " ('Action',),\n",
       " ('Action',),\n",
       " ('Action',),\n",
       " ('Action',),\n",
       " ('Action',),\n",
       " ('Action',),\n",
       " ('Action',),\n",
       " ('Action',),\n",
       " ('Action',),\n",
       " (' Action',),\n",
       " (' Action',),\n",
       " (' Action',),\n",
       " (' Action',),\n",
       " (' Action',),\n",
       " ('Animation',),\n",
       " ('Action',),\n",
       " ('Action',),\n",
       " ('Action',),\n",
       " ('Action',),\n",
       " (' Action',),\n",
       " (' Action',),\n",
       " (' Action',),\n",
       " (' Action',),\n",
       " (' Action',),\n",
       " (' Action',),\n",
       " ('Action',),\n",
       " (' Animation',),\n",
       " (' Action',),\n",
       " (' Action',),\n",
       " (' Action',),\n",
       " (' Action',),\n",
       " (' Action',),\n",
       " (' Action',),\n",
       " (' Action',),\n",
       " (' Action',),\n",
       " (' Action',),\n",
       " (' Action',),\n",
       " ('Action',),\n",
       " ('Action',),\n",
       " (' Action',),\n",
       " (' Action',),\n",
       " (' Action',),\n",
       " (' Action',),\n",
       " ('Animation',),\n",
       " (' Action',),\n",
       " (' Action',),\n",
       " (' Action',),\n",
       " (' Action',),\n",
       " (' Action',)]"
      ]
     },
     "execution_count": 13,
     "metadata": {},
     "output_type": "execute_result"
    }
   ],
   "source": [
    "results=cur.execute('select genre2 from genres4')\n",
    "\n",
    "results.fetchall()"
   ]
  },
  {
   "cell_type": "markdown",
   "id": "a6cbd9fc",
   "metadata": {},
   "source": [
    "# Q.1Display all details from both tables where movie names are the same."
   ]
  },
  {
   "cell_type": "code",
   "execution_count": 14,
   "id": "edb4dc4e",
   "metadata": {},
   "outputs": [],
   "source": [
    "query = \"select movies4.movie_id,movies4.movie_name,genres4.genre,genres4.movie_name FROM movies4 INNER JOIN genres4 ON movies4.movie_id = genres4.movie_id\"\n",
    "results = cur.execute(query)\n",
    "for row in results:\n",
    "    print(row)\n",
    "    "
   ]
  },
  {
   "cell_type": "code",
   "execution_count": 15,
   "id": "8b6e12c1",
   "metadata": {},
   "outputs": [],
   "source": [
    "query = \"SELECT movies2.movie_id,movies2.movie_name,movies2.director_1,movies2.director_2,movies2.director_3,movies2.year,movies2.ratings,movies2.duration,movies2.metascore,genres2.genre,genres2.movie_name,genres2.genre2,genres2.genre3,genres2.movie_id,genres2.star1,genres2.star2,genres2.star3,genres2.star4,genres2.ratings,genres2.gross_collection,genres2.votes,genres2.certification FROM movies2 INNER JOIN genres2 ON movies2.movie_id = genres2.movie_id\"\n",
    "results = cur.execute(query)\n",
    "for row in results:\n",
    "    print(row)"
   ]
  },
  {
   "cell_type": "code",
   "execution_count": 16,
   "id": "876e0ee8",
   "metadata": {},
   "outputs": [
    {
     "name": "stdout",
     "output_type": "stream",
     "text": [
      "('movie_id.', 'Movie_Name', 'Yera_of_release', 'Director_1', 'Director_2', 'Duration', 'Ratings', 'Director_3', 'Metascore\\n', None, None, None, None, None, None, None, None, None, None, None, None, None)\n",
      "(1, 'The Dark Knight', '2008', 'Christopher Nolan', 'NAN', '152 min', 9, 'NAN', 84, None, None, None, None, None, None, None, None, None, None, None, None, None)\n",
      "(2, 'The Lord of the Rings: The Return of the King', '2003', 'Peter Jackson', 'NAN', '201 min', 9, 'NAN', 94, None, None, None, None, None, None, None, None, None, None, None, None, None)\n",
      "(3, 'Inception', '2010', 'Christopher Nolan', 'NAN', '148 min', 8.8, 'NAN', 74, None, None, None, None, None, None, None, None, None, None, None, None, None)\n",
      "(4, 'The Lord of the Rings: The Fellowship of the Ring', '2001', 'Peter Jackson', 'NAN', '178 min', 8.8, 'NAN', 92, None, None, None, None, None, None, None, None, None, None, None, None, None)\n",
      "(5, 'The Lord of the Rings: The Two Towers', '2002', 'Peter Jackson', 'NAN', '179 min', 8.8, 'NAN', 87, None, None, None, None, None, None, None, None, None, None, None, None, None)\n",
      "(6, 'The Matrix', '1999', 'Lana Wachowski', ' Laurence Fishburne', '136 min', 8.7, ' NAN', 73, None, None, None, None, None, None, None, None, None, None, None, None, None)\n",
      "(7, 'Star Wars: Episode V - The Empire Strikes Back', '1980', 'Irvin Kershner', 'NAN', '124 min', 8.7, 'NAN', 82, None, None, None, None, None, None, None, None, None, None, None, None, None)\n",
      "(8, 'Soorarai Pottru', '2020', 'Sudha Kongara', 'NAN', '153 min', 8.7, 'NAN', '^^^^^^^\\n', None, None, None, None, None, None, None, None, None, None, None, None, None)\n",
      "(9, 'Star Wars', '1977', 'George Lucas', 'NAN', '121 min', 8.6, 'NAN', 90, None, None, None, None, None, None, None, None, None, None, None, None, None)\n",
      "(10, 'Terminator 2: Judgment Day', '1991', 'James Cameron', 'NAN', '137 min', 8.6, 'NAN', 75, None, None, None, None, None, None, None, None, None, None, None, None, None)\n",
      "(11, 'Shichinin no samurai', '1954', 'Akira Kurosawa', 'NAN', '207 min', 8.6, 'NAN', 98, None, None, None, None, None, None, None, None, None, None, None, None, None)\n",
      "(12, 'Seppuku', '1962', 'Masaki Kobayashi', 'NAN', '133 min', 8.6, 'NAN', 85, None, None, None, None, None, None, None, None, None, None, None, None, None)\n",
      "(13, 'Sita Ramam', '2022', 'Hanu Raghavapudi', 'NAN', '163 min', 8.6, 'NAN', '^^^^^^^\\n', None, None, None, None, None, None, None, None, None, None, None, None, None)\n",
      "(14, 'LÅ½on', '1994', 'Luc Besson', 'NAN', '110 min', 8.5, 'NAN', 64, None, None, None, None, None, None, None, None, None, None, None, None, None)\n",
      "(15, 'Gladiator', '2000', 'Ridley Scott', 'NAN', '155 min', 8.5, 'NAN', 67, None, None, None, None, None, None, None, None, None, None, None, None, None)\n",
      "(16, 'Avengers: Endgame', '2019', 'Anthony Russo', 'Joe Russo', '181 min', 8.4, 'NAN', 78, None, None, None, None, None, None, None, None, None, None, None, None, None)\n",
      "(17, 'Spider-Man: Into the Spider-Verse', '2018', 'Bob Persichetti', 'Peter Ramsey', '117 min', 8.4, 'Rodney Rothman', 87, None, None, None, None, None, None, None, None, None, None, None, None, None)\n",
      "(18, 'Raiders of the Lost Ark', '1981', 'Steven Spielberg', 'NAN', '115 min', 8.4, 'NAN', 85, None, None, None, None, None, None, None, None, None, None, None, None, None)\n",
      "(19, 'Avengers: Infinity War', '2018', 'Anthony Russo', 'Joe Russo', '149 min', 8.4, 'Joe Russo', 68, None, None, None, None, None, None, None, None, None, None, None, None, None)\n",
      "(20, 'Oldeuboi', '2003', 'Park Chan-wook', 'NAN', '101 min', 8.4, 'NAN', 77, None, None, None, None, None, None, None, None, None, None, None, None, None)\n",
      "(21, 'The Dark Knight Rises', '2012', 'Christopher Nolan', 'NAN', '164 min', 8.4, 'NAN', 78, None, None, None, None, None, None, None, None, None, None, None, None, None)\n",
      "(22, 'Aliens', '1986', 'James Cameron', 'NAN', '137 min', 8.4, 'NAN', 84, None, None, None, None, None, None, None, None, None, None, None, None, None)\n",
      "(23, 'Kaithi', '2019', 'Lokesh Kanagaraj', 'NAN', '145 min', 8.4, 'NAN', '^^^^^^^\\n', None, None, None, None, None, None, None, None, None, None, None, None, None)\n",
      "(24, 'Asuran', '2019', 'Vetrimaaran', 'NAN', '141 min', 8.4, 'NAN', '^^^^^^^\\n', None, None, None, None, None, None, None, None, None, None, None, None, None)\n",
      "(25, 'Heat', '1995', 'Michael Mann', 'NAN', '170 min', 8.3, 'NAN', 76, None, None, None, None, None, None, None, None, None, None, None, None, None)\n",
      "(26, 'Top Gun: Maverick', '2022', 'Joseph Kosinski', 'NAN', '130 min', 8.3, 'NAN', 78, None, None, None, None, None, None, None, None, None, None, None, None, None)\n",
      "(27, 'Star Wars: Episode VI - Return of the Jedi', '1983', 'Richard Marquand', 'NAN', '131 min', 8.3, 'NAN', 58, None, None, None, None, None, None, None, None, None, None, None, None, None)\n",
      "(28, 'Mononoke-hime', '1997', 'Hayao Miyazaki', 'NAN', '134 min', 8.3, 'NAN', 76, None, None, None, None, None, None, None, None, None, None, None, None, None)\n",
      "(29, 'North by Northwest', '1959', 'Alfred Hitchcock', 'NAN', '136 min', 8.3, 'NAN', 98, None, None, None, None, None, None, None, None, None, None, None, None, None)\n",
      "(30, 'Kantara', '2022', 'Rishab Shetty', 'NAN', '148 min', 8.3, 'NAN', '^^^^^^^\\n', None, None, None, None, None, None, None, None, None, None, None, None, None)\n",
      "(31, 'Dangal', '2016', 'Nitesh Tiwari', 'NAN', '161 min', 8.3, 'NAN', '^^^^^^^\\n', None, None, None, None, None, None, None, None, None, None, None, None, None)\n",
      "(32, 'K.G.F: Chapter 2', '2022', 'Prashanth Neel', 'NAN', '168 min', 8.3, 'NAN', '^^^^^^^\\n', None, None, None, None, None, None, None, None, None, None, None, None, None)\n",
      "(33, 'Vikram', '2022', 'Lokesh Kanagaraj', 'NAN', '175 min', 8.3, 'NAN', '^^^^^^^\\n', None, None, None, None, None, None, None, None, None, None, None, None, None)\n",
      "(34, 'Ratsasan', '2018', 'Ram Kumar', 'NAN', '170 min', 8.3, 'NAN', '^^^^^^^\\n', None, None, None, None, None, None, None, None, None, None, None, None, None)\n",
      "(35, 'Shershaah', '2021', 'Vishnuvardhan', 'NAN', '135 min', 8.3, 'NAN', '^^^^^^^\\n', None, None, None, None, None, None, None, None, None, None, None, None, None)\n",
      "(36, 'Guardians of the Galaxy Vol. 3', '2023', 'James Gunn', 'NAN', '150 min', 8.2, 'NAN', 64, None, None, None, None, None, None, None, None, None, None, None, None, None)\n",
      "(37, 'Spider-Man: No Way Home', '2021', 'Jon Watts', 'NAN', '148 min', 8.2, 'NAN', 71, None, None, None, None, None, None, None, None, None, None, None, None, None)\n",
      "(38, 'Jurassic Park', '1993', 'Steven Spielberg', 'NAN', '127 min', 8.2, 'NAN', 68, None, None, None, None, None, None, None, None, None, None, None, None, None)\n",
      "(39, '1917', '2019', 'Sam Mendes', 'NAN', '119 min', 8.2, 'NAN', 78, None, None, None, None, None, None, None, None, None, None, None, None, None)\n",
      "(40, 'Kill Bill: Vol. 1', '2003', 'Quentin Tarantino', 'NAN', '111 min', 8.2, 'NAN', 69, None, None, None, None, None, None, None, None, None, None, None, None, None)\n",
      "(41, 'Indiana Jones and the Last Crusade', '1989', 'Steven Spielberg', 'NAN', '127 min', 8.2, 'NAN', 65, None, None, None, None, None, None, None, None, None, None, None, None, None)\n",
      "(42, 'Batman Begins', '2005', 'Christopher Nolan', 'NAN', '140 min', 8.2, 'NAN', 70, None, None, None, None, None, None, None, None, None, None, None, None, None)\n",
      "(43, 'Die Hard', '1988', 'John McTiernan', 'NAN', '132 min', 8.2, 'NAN', 72, None, None, None, None, None, None, None, None, None, None, None, None, None)\n",
      "(44, 'V for Vendetta', '2005', 'James McTeigue', 'NAN', '132 min', 8.2, 'NAN', 62, None, None, None, None, None, None, None, None, None, None, None, None, None)\n",
      "(45, 'Kimetsu no Yaiba: Mugen Ressha-Hen', '2020', 'Haruo Sotozaki', 'NAN', '117 min', 8.2, 'NAN', 72, None, None, None, None, None, None, None, None, None, None, None, None, None)\n",
      "(46, 'Vikram Vedha', '2017', 'Gayatri', 'Pushkar', '147 min', 8.2, 'Gowtham Selvaraj', '^^^^^^^\\n', None, None, None, None, None, None, None, None, None, None, None, None, None)\n",
      "(47, 'Ran', '1985', 'Akira Kurosawa', 'NAN', '162 min', 8.2, 'NAN', 97, None, None, None, None, None, None, None, None, None, None, None, None, None)\n",
      "(48, 'Baahubali 2: The Conclusion', '2017', 'S.S. Rajamouli', 'NAN', '167 min', 8.2, 'NAN', '^^^^^^^\\n', None, None, None, None, None, None, None, None, None, None, None, None, None)\n",
      "(49, 'Yâ„¢jinbâ„¢', '1961', 'Akira Kurosawa', 'NAN', '110 min', 8.2, 'NAN', 93, None, None, None, None, None, None, None, None, None, None, None, None, None)\n",
      "(50, 'Sherlock Jr.', '1924', 'Buster Keaton', 'NAN', '45 min', 8.2, 'NAN', '^^^^^^^\\n', None, None, None, None, None, None, None, None, None, None, None, None, None)\n"
     ]
    }
   ],
   "source": [
    "query = \"SELECT movies2.movie_id,movies2.movie_name,movies2.director_1,movies2.director_2,movies2.director_3,movies2.year,movies2.ratings,movies2.duration,movies2.metascore,genres2.genre,genres2.movie_name,genres2.genre2,genres2.genre3,genres2.movie_id,genres2.star1,genres2.star2,genres2.star3,genres2.star4,genres2.ratings,genres2.gross_collection,genres2.votes,genres2.certification FROM movies2 LEFT JOIN genres2 ON movies2.movie_id = genres2.movie_id\"\n",
    "results = cur.execute(query)\n",
    "for row in results:\n",
    "    print(row)"
   ]
  },
  {
   "cell_type": "code",
   "execution_count": 20,
   "id": "0c6afe40",
   "metadata": {},
   "outputs": [
    {
     "name": "stdout",
     "output_type": "stream",
     "text": [
      "('movie_id.', 'Movie_Name', 'Yera_of_release', 'Director_1', 'Director_2', 'Duration', 'Ratings', 'Director_3', 'Metascore\\n', None, None, None, None, None, None, None, None, None, None, None, None, None)\n",
      "(1, 'The Dark Knight', '2008', 'Christopher Nolan', 'NAN', '152 min', 9, 'NAN', 84, None, None, None, None, None, None, None, None, None, None, None, None, None)\n",
      "(2, 'The Lord of the Rings: The Return of the King', '2003', 'Peter Jackson', 'NAN', '201 min', 9, 'NAN', 94, None, None, None, None, None, None, None, None, None, None, None, None, None)\n",
      "(3, 'Inception', '2010', 'Christopher Nolan', 'NAN', '148 min', 8.8, 'NAN', 74, None, None, None, None, None, None, None, None, None, None, None, None, None)\n",
      "(4, 'The Lord of the Rings: The Fellowship of the Ring', '2001', 'Peter Jackson', 'NAN', '178 min', 8.8, 'NAN', 92, None, None, None, None, None, None, None, None, None, None, None, None, None)\n",
      "(5, 'The Lord of the Rings: The Two Towers', '2002', 'Peter Jackson', 'NAN', '179 min', 8.8, 'NAN', 87, None, None, None, None, None, None, None, None, None, None, None, None, None)\n",
      "(6, 'The Matrix', '1999', 'Lana Wachowski', ' Laurence Fishburne', '136 min', 8.7, ' NAN', 73, None, None, None, None, None, None, None, None, None, None, None, None, None)\n",
      "(7, 'Star Wars: Episode V - The Empire Strikes Back', '1980', 'Irvin Kershner', 'NAN', '124 min', 8.7, 'NAN', 82, None, None, None, None, None, None, None, None, None, None, None, None, None)\n",
      "(8, 'Soorarai Pottru', '2020', 'Sudha Kongara', 'NAN', '153 min', 8.7, 'NAN', '^^^^^^^\\n', None, None, None, None, None, None, None, None, None, None, None, None, None)\n",
      "(9, 'Star Wars', '1977', 'George Lucas', 'NAN', '121 min', 8.6, 'NAN', 90, None, None, None, None, None, None, None, None, None, None, None, None, None)\n",
      "(10, 'Terminator 2: Judgment Day', '1991', 'James Cameron', 'NAN', '137 min', 8.6, 'NAN', 75, None, None, None, None, None, None, None, None, None, None, None, None, None)\n",
      "(11, 'Shichinin no samurai', '1954', 'Akira Kurosawa', 'NAN', '207 min', 8.6, 'NAN', 98, None, None, None, None, None, None, None, None, None, None, None, None, None)\n",
      "(12, 'Seppuku', '1962', 'Masaki Kobayashi', 'NAN', '133 min', 8.6, 'NAN', 85, None, None, None, None, None, None, None, None, None, None, None, None, None)\n",
      "(13, 'Sita Ramam', '2022', 'Hanu Raghavapudi', 'NAN', '163 min', 8.6, 'NAN', '^^^^^^^\\n', None, None, None, None, None, None, None, None, None, None, None, None, None)\n",
      "(14, 'LÅ½on', '1994', 'Luc Besson', 'NAN', '110 min', 8.5, 'NAN', 64, None, None, None, None, None, None, None, None, None, None, None, None, None)\n",
      "(15, 'Gladiator', '2000', 'Ridley Scott', 'NAN', '155 min', 8.5, 'NAN', 67, None, None, None, None, None, None, None, None, None, None, None, None, None)\n",
      "(16, 'Avengers: Endgame', '2019', 'Anthony Russo', 'Joe Russo', '181 min', 8.4, 'NAN', 78, None, None, None, None, None, None, None, None, None, None, None, None, None)\n",
      "(17, 'Spider-Man: Into the Spider-Verse', '2018', 'Bob Persichetti', 'Peter Ramsey', '117 min', 8.4, 'Rodney Rothman', 87, None, None, None, None, None, None, None, None, None, None, None, None, None)\n",
      "(18, 'Raiders of the Lost Ark', '1981', 'Steven Spielberg', 'NAN', '115 min', 8.4, 'NAN', 85, None, None, None, None, None, None, None, None, None, None, None, None, None)\n",
      "(19, 'Avengers: Infinity War', '2018', 'Anthony Russo', 'Joe Russo', '149 min', 8.4, 'Joe Russo', 68, None, None, None, None, None, None, None, None, None, None, None, None, None)\n",
      "(20, 'Oldeuboi', '2003', 'Park Chan-wook', 'NAN', '101 min', 8.4, 'NAN', 77, None, None, None, None, None, None, None, None, None, None, None, None, None)\n",
      "(21, 'The Dark Knight Rises', '2012', 'Christopher Nolan', 'NAN', '164 min', 8.4, 'NAN', 78, None, None, None, None, None, None, None, None, None, None, None, None, None)\n",
      "(22, 'Aliens', '1986', 'James Cameron', 'NAN', '137 min', 8.4, 'NAN', 84, None, None, None, None, None, None, None, None, None, None, None, None, None)\n",
      "(23, 'Kaithi', '2019', 'Lokesh Kanagaraj', 'NAN', '145 min', 8.4, 'NAN', '^^^^^^^\\n', None, None, None, None, None, None, None, None, None, None, None, None, None)\n",
      "(24, 'Asuran', '2019', 'Vetrimaaran', 'NAN', '141 min', 8.4, 'NAN', '^^^^^^^\\n', None, None, None, None, None, None, None, None, None, None, None, None, None)\n",
      "(25, 'Heat', '1995', 'Michael Mann', 'NAN', '170 min', 8.3, 'NAN', 76, None, None, None, None, None, None, None, None, None, None, None, None, None)\n",
      "(26, 'Top Gun: Maverick', '2022', 'Joseph Kosinski', 'NAN', '130 min', 8.3, 'NAN', 78, None, None, None, None, None, None, None, None, None, None, None, None, None)\n",
      "(27, 'Star Wars: Episode VI - Return of the Jedi', '1983', 'Richard Marquand', 'NAN', '131 min', 8.3, 'NAN', 58, None, None, None, None, None, None, None, None, None, None, None, None, None)\n",
      "(28, 'Mononoke-hime', '1997', 'Hayao Miyazaki', 'NAN', '134 min', 8.3, 'NAN', 76, None, None, None, None, None, None, None, None, None, None, None, None, None)\n",
      "(29, 'North by Northwest', '1959', 'Alfred Hitchcock', 'NAN', '136 min', 8.3, 'NAN', 98, None, None, None, None, None, None, None, None, None, None, None, None, None)\n",
      "(30, 'Kantara', '2022', 'Rishab Shetty', 'NAN', '148 min', 8.3, 'NAN', '^^^^^^^\\n', None, None, None, None, None, None, None, None, None, None, None, None, None)\n",
      "(31, 'Dangal', '2016', 'Nitesh Tiwari', 'NAN', '161 min', 8.3, 'NAN', '^^^^^^^\\n', None, None, None, None, None, None, None, None, None, None, None, None, None)\n",
      "(32, 'K.G.F: Chapter 2', '2022', 'Prashanth Neel', 'NAN', '168 min', 8.3, 'NAN', '^^^^^^^\\n', None, None, None, None, None, None, None, None, None, None, None, None, None)\n",
      "(33, 'Vikram', '2022', 'Lokesh Kanagaraj', 'NAN', '175 min', 8.3, 'NAN', '^^^^^^^\\n', None, None, None, None, None, None, None, None, None, None, None, None, None)\n",
      "(34, 'Ratsasan', '2018', 'Ram Kumar', 'NAN', '170 min', 8.3, 'NAN', '^^^^^^^\\n', None, None, None, None, None, None, None, None, None, None, None, None, None)\n",
      "(35, 'Shershaah', '2021', 'Vishnuvardhan', 'NAN', '135 min', 8.3, 'NAN', '^^^^^^^\\n', None, None, None, None, None, None, None, None, None, None, None, None, None)\n",
      "(36, 'Guardians of the Galaxy Vol. 3', '2023', 'James Gunn', 'NAN', '150 min', 8.2, 'NAN', 64, None, None, None, None, None, None, None, None, None, None, None, None, None)\n",
      "(37, 'Spider-Man: No Way Home', '2021', 'Jon Watts', 'NAN', '148 min', 8.2, 'NAN', 71, None, None, None, None, None, None, None, None, None, None, None, None, None)\n",
      "(38, 'Jurassic Park', '1993', 'Steven Spielberg', 'NAN', '127 min', 8.2, 'NAN', 68, None, None, None, None, None, None, None, None, None, None, None, None, None)\n",
      "(39, '1917', '2019', 'Sam Mendes', 'NAN', '119 min', 8.2, 'NAN', 78, None, None, None, None, None, None, None, None, None, None, None, None, None)\n",
      "(40, 'Kill Bill: Vol. 1', '2003', 'Quentin Tarantino', 'NAN', '111 min', 8.2, 'NAN', 69, None, None, None, None, None, None, None, None, None, None, None, None, None)\n",
      "(41, 'Indiana Jones and the Last Crusade', '1989', 'Steven Spielberg', 'NAN', '127 min', 8.2, 'NAN', 65, None, None, None, None, None, None, None, None, None, None, None, None, None)\n",
      "(42, 'Batman Begins', '2005', 'Christopher Nolan', 'NAN', '140 min', 8.2, 'NAN', 70, None, None, None, None, None, None, None, None, None, None, None, None, None)\n",
      "(43, 'Die Hard', '1988', 'John McTiernan', 'NAN', '132 min', 8.2, 'NAN', 72, None, None, None, None, None, None, None, None, None, None, None, None, None)\n",
      "(44, 'V for Vendetta', '2005', 'James McTeigue', 'NAN', '132 min', 8.2, 'NAN', 62, None, None, None, None, None, None, None, None, None, None, None, None, None)\n",
      "(45, 'Kimetsu no Yaiba: Mugen Ressha-Hen', '2020', 'Haruo Sotozaki', 'NAN', '117 min', 8.2, 'NAN', 72, None, None, None, None, None, None, None, None, None, None, None, None, None)\n",
      "(46, 'Vikram Vedha', '2017', 'Gayatri', 'Pushkar', '147 min', 8.2, 'Gowtham Selvaraj', '^^^^^^^\\n', None, None, None, None, None, None, None, None, None, None, None, None, None)\n",
      "(47, 'Ran', '1985', 'Akira Kurosawa', 'NAN', '162 min', 8.2, 'NAN', 97, None, None, None, None, None, None, None, None, None, None, None, None, None)\n",
      "(48, 'Baahubali 2: The Conclusion', '2017', 'S.S. Rajamouli', 'NAN', '167 min', 8.2, 'NAN', '^^^^^^^\\n', None, None, None, None, None, None, None, None, None, None, None, None, None)\n",
      "(49, 'Yâ„¢jinbâ„¢', '1961', 'Akira Kurosawa', 'NAN', '110 min', 8.2, 'NAN', 93, None, None, None, None, None, None, None, None, None, None, None, None, None)\n",
      "(50, 'Sherlock Jr.', '1924', 'Buster Keaton', 'NAN', '45 min', 8.2, 'NAN', '^^^^^^^\\n', None, None, None, None, None, None, None, None, None, None, None, None, None)\n"
     ]
    }
   ],
   "source": [
    "query = \"SELECT movies4.movie_id,movies4.movie_name,movies4.director_1,movies4.director_2,movies4.director_3,movies4.year,movies4.ratings,movies4.duration,movies4.metascore,genres4.genre,genres4.movie_name,genres4.genre2,genres4.genre3,genres4.movie_id,genres4.star1,genres4.star2,genres4.star3,genres4.star4,genres4.ratings,genres4.gross_collection,genres4.votes,genres4.certification FROM movies4 LEFT JOIN genres4 ON movies4.Movie_Name = genres4.Movie_Name\"\n",
    "results = cur.execute(query)\n",
    "for row in results:\n",
    "    print(row)"
   ]
  },
  {
   "cell_type": "code",
   "execution_count": 21,
   "id": "b6e14b02",
   "metadata": {},
   "outputs": [],
   "source": [
    "query = \"SELECT movies4.movie_id,movies4.movie_name,movies4.director_1,movies4.director_2,movies4.director_3,movies4.year,movies4.ratings,movies4.duration,movies4.metascore,genres4.genre,genres4.movie_name,genres4.genre2,genres4.genre3,genres4.movie_id,genres4.star1,genres4.star2,genres4.star3,genres4.star4,genres4.ratings,genres4.gross_collection,genres4.votes,genres4.certification FROM movies4 INNER JOIN genres4 ON movies4.Movie_Name = genres4.Movie_Name\"\n",
    "results = cur.execute(query)\n",
    "for row in results:\n",
    "    print(row)"
   ]
  },
  {
   "cell_type": "markdown",
   "id": "118576e9",
   "metadata": {},
   "source": [
    "# Q.1Display all details from both tables where movie names are the same."
   ]
  },
  {
   "cell_type": "code",
   "execution_count": 22,
   "id": "36b7705d",
   "metadata": {},
   "outputs": [
    {
     "name": "stdout",
     "output_type": "stream",
     "text": [
      "('Movie_Name', 'Yera_of_release')\n",
      "('The Dark Knight', '2008')\n",
      "('The Lord of the Rings: The Return of the King', '2003')\n",
      "('Inception', '2010')\n",
      "('The Lord of the Rings: The Fellowship of the Ring', '2001')\n",
      "('The Lord of the Rings: The Two Towers', '2002')\n",
      "('The Matrix', '1999')\n",
      "('Star Wars: Episode V - The Empire Strikes Back', '1980')\n",
      "('Soorarai Pottru', '2020')\n",
      "('Star Wars', '1977')\n",
      "('Terminator 2: Judgment Day', '1991')\n",
      "('Shichinin no samurai', '1954')\n",
      "('Seppuku', '1962')\n",
      "('Sita Ramam', '2022')\n",
      "('LÅ½on', '1994')\n",
      "('Gladiator', '2000')\n",
      "('Avengers: Endgame', '2019')\n",
      "('Spider-Man: Into the Spider-Verse', '2018')\n",
      "('Raiders of the Lost Ark', '1981')\n",
      "('Avengers: Infinity War', '2018')\n",
      "('Oldeuboi', '2003')\n",
      "('The Dark Knight Rises', '2012')\n",
      "('Aliens', '1986')\n",
      "('Kaithi', '2019')\n",
      "('Asuran', '2019')\n",
      "('Heat', '1995')\n",
      "('Top Gun: Maverick', '2022')\n",
      "('Star Wars: Episode VI - Return of the Jedi', '1983')\n",
      "('Mononoke-hime', '1997')\n",
      "('North by Northwest', '1959')\n",
      "('Kantara', '2022')\n",
      "('Dangal', '2016')\n",
      "('K.G.F: Chapter 2', '2022')\n",
      "('Vikram', '2022')\n",
      "('Ratsasan', '2018')\n",
      "('Shershaah', '2021')\n",
      "('Guardians of the Galaxy Vol. 3', '2023')\n",
      "('Spider-Man: No Way Home', '2021')\n",
      "('Jurassic Park', '1993')\n",
      "('1917', '2019')\n",
      "('Kill Bill: Vol. 1', '2003')\n",
      "('Indiana Jones and the Last Crusade', '1989')\n",
      "('Batman Begins', '2005')\n",
      "('Die Hard', '1988')\n",
      "('V for Vendetta', '2005')\n",
      "('Kimetsu no Yaiba: Mugen Ressha-Hen', '2020')\n",
      "('Vikram Vedha', '2017')\n",
      "('Ran', '1985')\n",
      "('Baahubali 2: The Conclusion', '2017')\n",
      "('Yâ„¢jinbâ„¢', '1961')\n",
      "('Sherlock Jr.', '1924')\n"
     ]
    }
   ],
   "source": [
    "query2 = \"SELECT Movie_Name,Director_1[,Genre,Gross_collection] FROM movies4[,genres4] WHERE Ratings>8\"\n",
    "results = cur.execute(query2)\n",
    "for row in results:\n",
    "    print(row)"
   ]
  },
  {
   "cell_type": "markdown",
   "id": "dd35211c",
   "metadata": {},
   "source": [
    "# Q.3. Display all details from both tables with the highest gross collection."
   ]
  },
  {
   "cell_type": "code",
   "execution_count": 25,
   "id": "db04fdaf",
   "metadata": {},
   "outputs": [
    {
     "name": "stdout",
     "output_type": "stream",
     "text": [
      "('Gross_collection', None)\n"
     ]
    }
   ],
   "source": [
    "query3=\"SELECT MAX(Gross_collection),(SELECT Movie_Name FROM movies4 WHERE movies4.Movie_Name = genres4.Movie_Name) FROM genres4\"\n",
    "results = cur.execute(query3)\n",
    "for row in results:\n",
    "    print(row)"
   ]
  },
  {
   "cell_type": "code",
   "execution_count": 26,
   "id": "fc488e5c",
   "metadata": {},
   "outputs": [
    {
     "name": "stdout",
     "output_type": "stream",
     "text": [
      "('$0.27M', None)\n"
     ]
    }
   ],
   "source": [
    "query3=\"SELECT MIN(Gross_collection),(SELECT Movie_Name FROM movies4 WHERE movies4.Movie_Name = genres4.Movie_Name) FROM genres4\"\n",
    "results = cur.execute(query3)\n",
    "for row in results:\n",
    "    print(row)"
   ]
  },
  {
   "cell_type": "code",
   "execution_count": 28,
   "id": "06831b07",
   "metadata": {},
   "outputs": [],
   "source": [
    "query3 = \"SELECT * FROM Movies4 WHERE (Movie_Name,Ratings) IN (SELECT Movie_Name,MAX(Gross_collection) FROM genres4 GROUP BY Movie_Name)\"\n",
    "results = cur.execute(query3)\n",
    "for row in results:\n",
    "    print(row)"
   ]
  },
  {
   "cell_type": "markdown",
   "id": "daf9c0f3",
   "metadata": {},
   "source": [
    "# Q.2)Display all movie names, Director, ratings, and gross collection where the genre is action."
   ]
  },
  {
   "cell_type": "code",
   "execution_count": 45,
   "id": "1ce1eebc",
   "metadata": {},
   "outputs": [
    {
     "name": "stdout",
     "output_type": "stream",
     "text": [
      "('Movie_Name', 'Metascore\\n', 'Ratings', None)\n",
      "('The Dark Knight', 84, 9, None)\n",
      "('The Lord of the Rings: The Return of the King', 94, 9, None)\n",
      "('Inception', 74, 8.8, None)\n",
      "('The Lord of the Rings: The Fellowship of the Ring', 92, 8.8, None)\n",
      "('The Lord of the Rings: The Two Towers', 87, 8.8, None)\n",
      "('The Matrix', 73, 8.7, None)\n",
      "('Star Wars: Episode V - The Empire Strikes Back', 82, 8.7, None)\n",
      "('Soorarai Pottru', '^^^^^^^\\n', 8.7, None)\n",
      "('Star Wars', 90, 8.6, None)\n",
      "('Terminator 2: Judgment Day', 75, 8.6, None)\n",
      "('Shichinin no samurai', 98, 8.6, None)\n",
      "('Seppuku', 85, 8.6, None)\n",
      "('Sita Ramam', '^^^^^^^\\n', 8.6, None)\n",
      "('LÅ½on', 64, 8.5, None)\n",
      "('Gladiator', 67, 8.5, None)\n",
      "('Avengers: Endgame', 78, 8.4, None)\n",
      "('Spider-Man: Into the Spider-Verse', 87, 8.4, None)\n",
      "('Raiders of the Lost Ark', 85, 8.4, None)\n",
      "('Avengers: Infinity War', 68, 8.4, None)\n",
      "('Oldeuboi', 77, 8.4, None)\n",
      "('The Dark Knight Rises', 78, 8.4, None)\n",
      "('Aliens', 84, 8.4, None)\n",
      "('Kaithi', '^^^^^^^\\n', 8.4, None)\n",
      "('Asuran', '^^^^^^^\\n', 8.4, None)\n",
      "('Heat', 76, 8.3, None)\n",
      "('Top Gun: Maverick', 78, 8.3, None)\n",
      "('Star Wars: Episode VI - Return of the Jedi', 58, 8.3, None)\n",
      "('Mononoke-hime', 76, 8.3, None)\n",
      "('North by Northwest', 98, 8.3, None)\n",
      "('Kantara', '^^^^^^^\\n', 8.3, None)\n",
      "('Dangal', '^^^^^^^\\n', 8.3, None)\n",
      "('K.G.F: Chapter 2', '^^^^^^^\\n', 8.3, None)\n",
      "('Vikram', '^^^^^^^\\n', 8.3, None)\n",
      "('Ratsasan', '^^^^^^^\\n', 8.3, None)\n",
      "('Shershaah', '^^^^^^^\\n', 8.3, None)\n",
      "('Guardians of the Galaxy Vol. 3', 64, 8.2, None)\n",
      "('Spider-Man: No Way Home', 71, 8.2, None)\n",
      "('Jurassic Park', 68, 8.2, None)\n",
      "('1917', 78, 8.2, None)\n",
      "('Kill Bill: Vol. 1', 69, 8.2, None)\n",
      "('Indiana Jones and the Last Crusade', 65, 8.2, None)\n",
      "('Batman Begins', 70, 8.2, None)\n",
      "('Die Hard', 72, 8.2, None)\n",
      "('V for Vendetta', 62, 8.2, None)\n",
      "('Kimetsu no Yaiba: Mugen Ressha-Hen', 72, 8.2, None)\n",
      "('Vikram Vedha', '^^^^^^^\\n', 8.2, None)\n",
      "('Ran', 97, 8.2, None)\n",
      "('Baahubali 2: The Conclusion', '^^^^^^^\\n', 8.2, None)\n",
      "('Yâ„¢jinbâ„¢', 93, 8.2, None)\n",
      "('Sherlock Jr.', '^^^^^^^\\n', 8.2, None)\n"
     ]
    }
   ],
   "source": [
    "query = \"SELECT Movie_Name,Director_1,Ratings,(SELECT Gross_collection FROM genres4 WHERE movies4.Movie_Name = genres4.Movie_Name) FROM movies4\"\n",
    "results = cur.execute(query3)\n",
    "for row in results:\n",
    "    print(row)"
   ]
  },
  {
   "cell_type": "code",
   "execution_count": 46,
   "id": "d4e31f0f",
   "metadata": {},
   "outputs": [
    {
     "name": "stdout",
     "output_type": "stream",
     "text": [
      "('Movie_Name', 'Metascore\\n', 'Ratings', None)\n",
      "('The Dark Knight', 84, 9, None)\n",
      "('The Lord of the Rings: The Return of the King', 94, 9, None)\n",
      "('Inception', 74, 8.8, None)\n",
      "('The Lord of the Rings: The Fellowship of the Ring', 92, 8.8, None)\n",
      "('The Lord of the Rings: The Two Towers', 87, 8.8, None)\n",
      "('The Matrix', 73, 8.7, None)\n",
      "('Star Wars: Episode V - The Empire Strikes Back', 82, 8.7, None)\n",
      "('Soorarai Pottru', '^^^^^^^\\n', 8.7, None)\n",
      "('Star Wars', 90, 8.6, None)\n",
      "('Terminator 2: Judgment Day', 75, 8.6, None)\n",
      "('Shichinin no samurai', 98, 8.6, None)\n",
      "('Seppuku', 85, 8.6, None)\n",
      "('Sita Ramam', '^^^^^^^\\n', 8.6, None)\n",
      "('LÅ½on', 64, 8.5, None)\n",
      "('Gladiator', 67, 8.5, None)\n",
      "('Avengers: Endgame', 78, 8.4, None)\n",
      "('Spider-Man: Into the Spider-Verse', 87, 8.4, None)\n",
      "('Raiders of the Lost Ark', 85, 8.4, None)\n",
      "('Avengers: Infinity War', 68, 8.4, None)\n",
      "('Oldeuboi', 77, 8.4, None)\n",
      "('The Dark Knight Rises', 78, 8.4, None)\n",
      "('Aliens', 84, 8.4, None)\n",
      "('Kaithi', '^^^^^^^\\n', 8.4, None)\n",
      "('Asuran', '^^^^^^^\\n', 8.4, None)\n",
      "('Heat', 76, 8.3, None)\n",
      "('Top Gun: Maverick', 78, 8.3, None)\n",
      "('Star Wars: Episode VI - Return of the Jedi', 58, 8.3, None)\n",
      "('Mononoke-hime', 76, 8.3, None)\n",
      "('North by Northwest', 98, 8.3, None)\n",
      "('Kantara', '^^^^^^^\\n', 8.3, None)\n",
      "('Dangal', '^^^^^^^\\n', 8.3, None)\n",
      "('K.G.F: Chapter 2', '^^^^^^^\\n', 8.3, None)\n",
      "('Vikram', '^^^^^^^\\n', 8.3, None)\n",
      "('Ratsasan', '^^^^^^^\\n', 8.3, None)\n",
      "('Shershaah', '^^^^^^^\\n', 8.3, None)\n",
      "('Guardians of the Galaxy Vol. 3', 64, 8.2, None)\n",
      "('Spider-Man: No Way Home', 71, 8.2, None)\n",
      "('Jurassic Park', 68, 8.2, None)\n",
      "('1917', 78, 8.2, None)\n",
      "('Kill Bill: Vol. 1', 69, 8.2, None)\n",
      "('Indiana Jones and the Last Crusade', 65, 8.2, None)\n",
      "('Batman Begins', 70, 8.2, None)\n",
      "('Die Hard', 72, 8.2, None)\n",
      "('V for Vendetta', 62, 8.2, None)\n",
      "('Kimetsu no Yaiba: Mugen Ressha-Hen', 72, 8.2, None)\n",
      "('Vikram Vedha', '^^^^^^^\\n', 8.2, None)\n",
      "('Ran', 97, 8.2, None)\n",
      "('Baahubali 2: The Conclusion', '^^^^^^^\\n', 8.2, None)\n",
      "('Yâ„¢jinbâ„¢', 93, 8.2, None)\n",
      "('Sherlock Jr.', '^^^^^^^\\n', 8.2, None)\n"
     ]
    }
   ],
   "source": [
    "query3 = \"SELECT Movie_Name,Metascore,Ratings,(SELECT Genre=='Action' FROM genres4 WHERE movies4.Movie_Name = genres4.Movie_Name) FROM movies4\"\n",
    "results = cur.execute(query3)\n",
    "for row in results:\n",
    "    print(row)"
   ]
  },
  {
   "cell_type": "markdown",
   "id": "8e436ea6",
   "metadata": {},
   "source": [
    "# Q.5)Display all details from both tables with the lowest gross collection and lowest ratings."
   ]
  },
  {
   "cell_type": "code",
   "execution_count": 47,
   "id": "e93c47bd",
   "metadata": {},
   "outputs": [
    {
     "name": "stdout",
     "output_type": "stream",
     "text": [
      "('Chris Pratt', '$0.27M', 8.2, None)\n"
     ]
    }
   ],
   "source": [
    "query5 = \"SELECT Movie_Name, MIN(Gross_collection),MIN(Ratings),(SELECT Movie_Name FROM movies4 WHERE movies4.Movie_Name = genres4.Movie_Name) FROM genres4\"\n",
    "results = cur.execute(query5)\n",
    "for row in results:\n",
    "    print(row)"
   ]
  },
  {
   "cell_type": "code",
   "execution_count": 48,
   "id": "4f7b0291",
   "metadata": {},
   "outputs": [
    {
     "name": "stdout",
     "output_type": "stream",
     "text": [
      "('Chris Pratt', 'Chukwudi Iwuji', '$0.27M', 8.2, None)\n"
     ]
    }
   ],
   "source": [
    "query5 = \"SELECT Movie_Name,Star1, MIN(Gross_collection),MIN(Ratings),(SELECT Movie_Name FROM movies4 WHERE movies4.movie_id = genres4.movie_id) FROM genres4\"\n",
    "results = cur.execute(query5)\n",
    "for row in results:\n",
    "    print(row)"
   ]
  },
  {
   "cell_type": "markdown",
   "id": "fd53bc45",
   "metadata": {},
   "source": [
    "# *****DONE****************"
   ]
  },
  {
   "cell_type": "code",
   "execution_count": null,
   "id": "91001715",
   "metadata": {},
   "outputs": [],
   "source": []
  }
 ],
 "metadata": {
  "kernelspec": {
   "display_name": "Python 3 (ipykernel)",
   "language": "python",
   "name": "python3"
  },
  "language_info": {
   "codemirror_mode": {
    "name": "ipython",
    "version": 3
   },
   "file_extension": ".py",
   "mimetype": "text/x-python",
   "name": "python",
   "nbconvert_exporter": "python",
   "pygments_lexer": "ipython3",
   "version": "3.9.12"
  }
 },
 "nbformat": 4,
 "nbformat_minor": 5
}
